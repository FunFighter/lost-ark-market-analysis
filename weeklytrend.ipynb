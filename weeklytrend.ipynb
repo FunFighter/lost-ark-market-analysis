{
 "cells": [
  {
   "cell_type": "code",
   "execution_count": 1,
   "id": "8c67da15-30b7-498b-a38f-f6d34217f760",
   "metadata": {},
   "outputs": [],
   "source": [
    "import requests\n",
    "import pandas as pd\n",
    "import numpy as np\n",
    "import matplotlib.pyplot as plt\n",
    "import json\n",
    "from datetime import datetime\n",
    "from dateutil.relativedelta import relativedelta\n",
    "\n",
    "# Load AutoReg class from statsmodels.tsa.ar_model module\n",
    "#\n",
    "from statsmodels.tsa.ar_model import AutoReg"
   ]
  },
  {
   "cell_type": "code",
   "execution_count": 2,
   "id": "d4c99f6a-2c17-4869-9eb8-05c1f8e54dc7",
   "metadata": {},
   "outputs": [],
   "source": [
    "# url = 'https://www.lostarkmarket.online/api/export-item-history/North America West/achatemeow-selection-chest-3,achatemeow-selection-chest-3,armor-wagon-selection-chest-4,bike-mount-selection-chest-4,blue-crystal-0?format=csv'\n",
    "# res = requests.get(url)\n",
    "# res.text"
   ]
  },
  {
   "cell_type": "code",
   "execution_count": 3,
   "id": "74af4206-1254-4354-95da-06eb2ff932d1",
   "metadata": {},
   "outputs": [],
   "source": [
    "import time\n",
    "def create_item_ids_csv():\n",
    "    list_url = \"https://www.lostarkmarket.online/api/export-market-live/North America East?categories=Gem Chest,Mount,Currency Exchange,Skin,Cooking?format=csv\"\n",
    "    res = requests.get(list_url)\n",
    "    time.sleep(5)\n",
    "    two_url = \"https://www.lostarkmarket.online/api/export-market-live/North America East?categories=Enhancement Material,Trader,Engraving Recipe,Combat Supplies,Adventurer's Tome,Cooking?format=csv\"\n",
    "    restwo = requests.get(two_url)\n",
    "\n",
    "    part_one = str(res.text)\n",
    "    part_two = str(restwo.text)\n",
    "    # remove the ending and starting brackets to join as 1 obj\n",
    "    big_res = part_one[:-1] + ',' + part_two[1:]\n",
    "\n",
    "    item_ids = []\n",
    "    for x in big_res[1:][:-1].split(','):\n",
    "        if '{\"id\":\"' in x:\n",
    "            value = x.split('{\"id\":')[1].replace('\"','')\n",
    "            item_ids.append(value)\n",
    "    pd.DataFrame(item_ids,columns=['item_id']).to_csv('item_ids.csv')\n",
    "    return item_ids"
   ]
  },
  {
   "cell_type": "code",
   "execution_count": 4,
   "id": "0dccf436-59e3-40ac-800c-3b68f7287934",
   "metadata": {},
   "outputs": [],
   "source": [
    "item_ids = create_item_ids_csv()"
   ]
  },
  {
   "cell_type": "code",
   "execution_count": 5,
   "id": "5a64a3b7-a537-4f7e-9970-f7f6c01ca918",
   "metadata": {
    "tags": []
   },
   "outputs": [],
   "source": [
    "#@TODO only pull the IDS and then parse that data to a dictionary, to then send to api calls to get the historical records.\n",
    "# can do many IDS at once with historical."
   ]
  },
  {
   "cell_type": "code",
   "execution_count": null,
   "id": "7ca1de04-a751-4149-9db3-8a475daafaf8",
   "metadata": {
    "tags": []
   },
   "outputs": [],
   "source": []
  },
  {
   "cell_type": "code",
   "execution_count": null,
   "id": "2c1cc075-36f6-413d-830a-207700b0a131",
   "metadata": {
    "tags": []
   },
   "outputs": [
    {
     "name": "stdout",
     "output_type": "stream",
     "text": [
      "0/126\n",
      "5/126\n",
      "BAD URL FOUND: https://www.lostarkmarket.online/api/export-item-history/North America West/icebloom-reindeer-selection-chest-3,icebloom-reindeer-selection-chest-3,magic-bed-mount-selection-chest-3,mount-cerberus-4,mount-chaos-ghost-horse-4?format=csv\n",
      "10/126\n",
      "15/126\n",
      "20/126\n"
     ]
    }
   ],
   "source": [
    "url_base = 'https://www.lostarkmarket.online/api/export-item-history/North America East/'\n",
    "query_size = 5 # edit the URL if you adjust this number\n",
    "remainder = len(item_ids)%query_size\n",
    "sections = remainder/query_size\n",
    "df_frame = []\n",
    "\n",
    "# get the main grouping of items\n",
    "print(f'Starting final 0/{len(item_ids)}')\n",
    "for i in range(int(len(item_ids[:-remainder])/query_size)):\n",
    "    #pirnt a status value\n",
    "    if i%query_size == 0:\n",
    "        print(f'{i}/{int(len(item_ids[:-remainder])/query_size)}')\n",
    "    list_url = f\"{url_base}\\\n",
    "{item_ids[int((sections*0)+i)]},\\\n",
    "{item_ids[int((sections*1)+i)]},\\\n",
    "{item_ids[int((sections*2)+i)]},\\\n",
    "{item_ids[int((sections*3)+i)]},\\\n",
    "{item_ids[int((sections*4)+i)]}?format=csv\"\n",
    "    try:\n",
    "        res = requests.get(list_url)\n",
    "        for x in res.text.split('\\n'):\n",
    "            x = x.split(',')\n",
    "            df_frame.append(x)\n",
    "        time.sleep(5)\n",
    "    except:\n",
    "        print(f'BAD URL FOUND: {list_url}')\n",
    "        continue\n",
    "    \n",
    "# don't forget the remainding items\n",
    "print(f'Starting final {remainder}')\n",
    "for i in range(int(len(item_ids[-remainder:]))):\n",
    "    print(f'Starting {i}/{remainder}')\n",
    "    list_url = f\"{url_base}{item_ids[i]}?format=csv\"\n",
    "    try:\n",
    "        res = requests.get(list_url)\n",
    "        for x in res.text.split('\\n'):\n",
    "            x = x.split(',')\n",
    "            df_frame.append(x)\n",
    "        time.sleep(5)\n",
    "    except:\n",
    "        print(f'BAD URL FOUND: {list_url}')\n",
    "        continue"
   ]
  },
  {
   "cell_type": "code",
   "execution_count": 991,
   "id": "75424609-2618-47ea-9e05-c2642292e595",
   "metadata": {
    "tags": []
   },
   "outputs": [],
   "source": [
    "url = 'https://www.lostarkmarket.online/api/export-item-history/North America East/fish-0?format=csv'\n",
    "res = requests.get(url)\n",
    "for x in res.text.split('\\n'):\n",
    "    x = x.split(',')\n",
    "    df_frame.append(x)"
   ]
  },
  {
   "cell_type": "code",
   "execution_count": null,
   "id": "868032bc-2d60-424e-9e0b-19e2bbe143f7",
   "metadata": {},
   "outputs": [],
   "source": []
  },
  {
   "cell_type": "code",
   "execution_count": 992,
   "id": "e5d1d2f2-9d90-4cac-be62-0fb273c748ed",
   "metadata": {
    "tags": []
   },
   "outputs": [],
   "source": [
    "df = pd.DataFrame(df_frame)\n",
    "df.to_csv('raw.csv')"
   ]
  },
  {
   "cell_type": "code",
   "execution_count": 993,
   "id": "86bc0901-79f5-480a-95ef-3e274e3246cd",
   "metadata": {},
   "outputs": [],
   "source": [
    "df.columns = df.iloc[0]\n",
    "df = df.iloc[1:]"
   ]
  },
  {
   "cell_type": "code",
   "execution_count": 994,
   "id": "ea945f2a-c84e-484d-a1ea-6bcec693104e",
   "metadata": {},
   "outputs": [],
   "source": [
    "removed_quote_columns = []\n",
    "for x in list(df.columns):\n",
    "    x = x.replace('\"','')\n",
    "    removed_quote_columns.append(x)\n",
    "df.columns = removed_quote_columns"
   ]
  },
  {
   "cell_type": "code",
   "execution_count": null,
   "id": "f05b6430-63c8-417d-bd1a-2aa9830813d4",
   "metadata": {},
   "outputs": [],
   "source": []
  },
  {
   "cell_type": "code",
   "execution_count": 995,
   "id": "7e9a4d7a-de25-4719-ade5-e716157b51bb",
   "metadata": {},
   "outputs": [],
   "source": [
    "df = df[df['open'].str.contains('[A-Za-z]') == False]\n",
    "df = df[df['close'].str.contains('[A-Za-z]') == False]\n",
    "df = df[df['high'].str.contains('[A-Za-z]') == False]\n",
    "df = df[df['low'].str.contains('[A-Za-z]') == False]\n",
    "df = df[df.open != '']\n",
    "df = df[df.close != '']\n",
    "df = df[df.high != '']\n",
    "df = df[df.low != '']\n",
    "df = df[df.open != 0]\n",
    "df = df[df.close != 0]\n",
    "df = df[df.high != 0]\n",
    "df = df[df.low != 0]"
   ]
  },
  {
   "cell_type": "code",
   "execution_count": 996,
   "id": "b1f1721b-6e7b-4810-bf68-1f585b727c0b",
   "metadata": {},
   "outputs": [],
   "source": [
    "df[[ 'open', 'close', 'high', 'low']] = df[[ 'open', 'close', 'high', 'low']].astype('float')\n",
    "df.to_csv('clean_raw_timestamp.csv')\n",
    "df['timestamp'] = pd.to_datetime(df['timestamp'].astype('int64'),unit='ms')\n",
    "df.to_csv('clean_db.csv')"
   ]
  },
  {
   "cell_type": "code",
   "execution_count": 809,
   "id": "56e34af3-9468-44d3-8f76-a1f5ee1d273d",
   "metadata": {},
   "outputs": [
    {
     "data": {
      "text/html": [
       "<div>\n",
       "<style scoped>\n",
       "    .dataframe tbody tr th:only-of-type {\n",
       "        vertical-align: middle;\n",
       "    }\n",
       "\n",
       "    .dataframe tbody tr th {\n",
       "        vertical-align: top;\n",
       "    }\n",
       "\n",
       "    .dataframe thead th {\n",
       "        text-align: right;\n",
       "    }\n",
       "</style>\n",
       "<table border=\"1\" class=\"dataframe\">\n",
       "  <thead>\n",
       "    <tr style=\"text-align: right;\">\n",
       "      <th></th>\n",
       "      <th>id</th>\n",
       "      <th>timestamp</th>\n",
       "      <th>open</th>\n",
       "      <th>close</th>\n",
       "      <th>high</th>\n",
       "      <th>low</th>\n",
       "    </tr>\n",
       "  </thead>\n",
       "  <tbody>\n",
       "    <tr>\n",
       "      <th>2624859</th>\n",
       "      <td>\"honor-shard-pouch-l-3\"</td>\n",
       "      <td>2022-04-25 10:00:00</td>\n",
       "      <td>68.00</td>\n",
       "      <td>68.00</td>\n",
       "      <td>68.00</td>\n",
       "      <td>68.00</td>\n",
       "    </tr>\n",
       "    <tr>\n",
       "      <th>2624860</th>\n",
       "      <td>\"honor-shard-pouch-l-3\"</td>\n",
       "      <td>2022-04-25 11:00:00</td>\n",
       "      <td>68.00</td>\n",
       "      <td>67.94</td>\n",
       "      <td>68.00</td>\n",
       "      <td>67.94</td>\n",
       "    </tr>\n",
       "    <tr>\n",
       "      <th>2624861</th>\n",
       "      <td>\"honor-shard-pouch-l-3\"</td>\n",
       "      <td>2022-04-25 12:00:00</td>\n",
       "      <td>67.94</td>\n",
       "      <td>67.88</td>\n",
       "      <td>67.94</td>\n",
       "      <td>67.88</td>\n",
       "    </tr>\n",
       "    <tr>\n",
       "      <th>2624862</th>\n",
       "      <td>\"honor-shard-pouch-l-3\"</td>\n",
       "      <td>2022-04-25 13:00:00</td>\n",
       "      <td>67.88</td>\n",
       "      <td>67.83</td>\n",
       "      <td>67.88</td>\n",
       "      <td>67.83</td>\n",
       "    </tr>\n",
       "    <tr>\n",
       "      <th>2624863</th>\n",
       "      <td>\"honor-shard-pouch-l-3\"</td>\n",
       "      <td>2022-04-25 14:00:00</td>\n",
       "      <td>67.83</td>\n",
       "      <td>67.77</td>\n",
       "      <td>67.83</td>\n",
       "      <td>67.77</td>\n",
       "    </tr>\n",
       "    <tr>\n",
       "      <th>...</th>\n",
       "      <td>...</td>\n",
       "      <td>...</td>\n",
       "      <td>...</td>\n",
       "      <td>...</td>\n",
       "      <td>...</td>\n",
       "      <td>...</td>\n",
       "    </tr>\n",
       "    <tr>\n",
       "      <th>2639301</th>\n",
       "      <td>\"honor-shard-pouch-l-3\"</td>\n",
       "      <td>2023-02-17 22:00:00</td>\n",
       "      <td>686.38</td>\n",
       "      <td>684.25</td>\n",
       "      <td>686.38</td>\n",
       "      <td>684.25</td>\n",
       "    </tr>\n",
       "    <tr>\n",
       "      <th>2639302</th>\n",
       "      <td>\"honor-shard-pouch-l-3\"</td>\n",
       "      <td>2023-02-17 23:00:00</td>\n",
       "      <td>684.25</td>\n",
       "      <td>682.13</td>\n",
       "      <td>684.25</td>\n",
       "      <td>682.13</td>\n",
       "    </tr>\n",
       "    <tr>\n",
       "      <th>2639303</th>\n",
       "      <td>\"honor-shard-pouch-l-3\"</td>\n",
       "      <td>2023-02-18 00:00:00</td>\n",
       "      <td>682.13</td>\n",
       "      <td>680.00</td>\n",
       "      <td>682.13</td>\n",
       "      <td>680.00</td>\n",
       "    </tr>\n",
       "    <tr>\n",
       "      <th>2639304</th>\n",
       "      <td>\"honor-shard-pouch-l-3\"</td>\n",
       "      <td>2023-02-18 01:00:00</td>\n",
       "      <td>680.00</td>\n",
       "      <td>680.00</td>\n",
       "      <td>680.00</td>\n",
       "      <td>680.00</td>\n",
       "    </tr>\n",
       "    <tr>\n",
       "      <th>2639305</th>\n",
       "      <td>\"honor-shard-pouch-l-3\"</td>\n",
       "      <td>2023-02-18 02:00:00</td>\n",
       "      <td>675.00</td>\n",
       "      <td>675.00</td>\n",
       "      <td>675.00</td>\n",
       "      <td>675.00</td>\n",
       "    </tr>\n",
       "  </tbody>\n",
       "</table>\n",
       "<p>14446 rows × 6 columns</p>\n",
       "</div>"
      ],
      "text/plain": [
       "                              id           timestamp    open   close    high  \\\n",
       "2624859  \"honor-shard-pouch-l-3\" 2022-04-25 10:00:00   68.00   68.00   68.00   \n",
       "2624860  \"honor-shard-pouch-l-3\" 2022-04-25 11:00:00   68.00   67.94   68.00   \n",
       "2624861  \"honor-shard-pouch-l-3\" 2022-04-25 12:00:00   67.94   67.88   67.94   \n",
       "2624862  \"honor-shard-pouch-l-3\" 2022-04-25 13:00:00   67.88   67.83   67.88   \n",
       "2624863  \"honor-shard-pouch-l-3\" 2022-04-25 14:00:00   67.83   67.77   67.83   \n",
       "...                          ...                 ...     ...     ...     ...   \n",
       "2639301  \"honor-shard-pouch-l-3\" 2023-02-17 22:00:00  686.38  684.25  686.38   \n",
       "2639302  \"honor-shard-pouch-l-3\" 2023-02-17 23:00:00  684.25  682.13  684.25   \n",
       "2639303  \"honor-shard-pouch-l-3\" 2023-02-18 00:00:00  682.13  680.00  682.13   \n",
       "2639304  \"honor-shard-pouch-l-3\" 2023-02-18 01:00:00  680.00  680.00  680.00   \n",
       "2639305  \"honor-shard-pouch-l-3\" 2023-02-18 02:00:00  675.00  675.00  675.00   \n",
       "\n",
       "            low  \n",
       "2624859   68.00  \n",
       "2624860   67.94  \n",
       "2624861   67.88  \n",
       "2624862   67.83  \n",
       "2624863   67.77  \n",
       "...         ...  \n",
       "2639301  684.25  \n",
       "2639302  682.13  \n",
       "2639303  680.00  \n",
       "2639304  680.00  \n",
       "2639305  675.00  \n",
       "\n",
       "[14446 rows x 6 columns]"
      ]
     },
     "execution_count": 809,
     "metadata": {},
     "output_type": "execute_result"
    }
   ],
   "source": [
    "df[df['id']=='\"honor-shard-pouch-l-3\"']"
   ]
  },
  {
   "cell_type": "code",
   "execution_count": 997,
   "id": "5fefbf64-35d0-474f-a12e-9f2dddc7553f",
   "metadata": {},
   "outputs": [
    {
     "name": "stderr",
     "output_type": "stream",
     "text": [
      "C:\\Users\\saber\\AppData\\Local\\Temp\\ipykernel_9424\\231996382.py:7: SettingWithCopyWarning: \n",
      "A value is trying to be set on a copy of a slice from a DataFrame\n",
      "\n",
      "See the caveats in the documentation: https://pandas.pydata.org/pandas-docs/stable/user_guide/indexing.html#returning-a-view-versus-a-copy\n",
      "  recent_one_item.sort_index(inplace=True)\n",
      "C:\\Users\\saber\\AppData\\Local\\Temp\\ipykernel_9424\\231996382.py:8: SettingWithCopyWarning: \n",
      "A value is trying to be set on a copy of a slice from a DataFrame\n",
      "\n",
      "See the caveats in the documentation: https://pandas.pydata.org/pandas-docs/stable/user_guide/indexing.html#returning-a-view-versus-a-copy\n",
      "  recent_one_item.drop('timestamp',axis = 1, inplace= True)\n"
     ]
    }
   ],
   "source": [
    "one_item_parse = df[df['id']=='\"fish-0\"']\n",
    "# get the last two months of data.\n",
    "recent_one_item = one_item_parse[one_item_parse.timestamp > datetime.now() - relativedelta(months=1)]\n",
    "\n",
    "# set timestamp to be the axis\n",
    "recent_one_item.index = recent_one_item.timestamp\n",
    "recent_one_item.sort_index(inplace=True)\n",
    "recent_one_item.drop('timestamp',axis = 1, inplace= True)\n",
    "\n",
    "# remove outliers\n",
    "from scipy import stats\n",
    "recent_one_item = recent_one_item[(np.abs(stats.zscore(recent_one_item.close)) < 2.65)]\n",
    "recent_one_item = recent_one_item[stats.zscore(recent_one_item.close) > -1]"
   ]
  },
  {
   "cell_type": "code",
   "execution_count": 999,
   "id": "8f1fd99a-09fc-4f51-be44-619893699b70",
   "metadata": {},
   "outputs": [
    {
     "data": {
      "text/html": [
       "<div>\n",
       "<style scoped>\n",
       "    .dataframe tbody tr th:only-of-type {\n",
       "        vertical-align: middle;\n",
       "    }\n",
       "\n",
       "    .dataframe tbody tr th {\n",
       "        vertical-align: top;\n",
       "    }\n",
       "\n",
       "    .dataframe thead th {\n",
       "        text-align: right;\n",
       "    }\n",
       "</style>\n",
       "<table border=\"1\" class=\"dataframe\">\n",
       "  <thead>\n",
       "    <tr style=\"text-align: right;\">\n",
       "      <th></th>\n",
       "      <th>id</th>\n",
       "      <th>open</th>\n",
       "      <th>close</th>\n",
       "      <th>high</th>\n",
       "      <th>low</th>\n",
       "    </tr>\n",
       "    <tr>\n",
       "      <th>timestamp</th>\n",
       "      <th></th>\n",
       "      <th></th>\n",
       "      <th></th>\n",
       "      <th></th>\n",
       "      <th></th>\n",
       "    </tr>\n",
       "  </thead>\n",
       "  <tbody>\n",
       "    <tr>\n",
       "      <th>2023-01-21 15:00:00</th>\n",
       "      <td>\"fish-0\"</td>\n",
       "      <td>49.63</td>\n",
       "      <td>49.68</td>\n",
       "      <td>49.68</td>\n",
       "      <td>49.63</td>\n",
       "    </tr>\n",
       "    <tr>\n",
       "      <th>2023-01-21 15:00:00</th>\n",
       "      <td>\"fish-0\"</td>\n",
       "      <td>49.63</td>\n",
       "      <td>49.68</td>\n",
       "      <td>49.68</td>\n",
       "      <td>49.63</td>\n",
       "    </tr>\n",
       "    <tr>\n",
       "      <th>2023-01-21 16:00:00</th>\n",
       "      <td>\"fish-0\"</td>\n",
       "      <td>49.68</td>\n",
       "      <td>49.74</td>\n",
       "      <td>49.74</td>\n",
       "      <td>49.68</td>\n",
       "    </tr>\n",
       "    <tr>\n",
       "      <th>2023-01-21 16:00:00</th>\n",
       "      <td>\"fish-0\"</td>\n",
       "      <td>49.68</td>\n",
       "      <td>49.74</td>\n",
       "      <td>49.74</td>\n",
       "      <td>49.68</td>\n",
       "    </tr>\n",
       "    <tr>\n",
       "      <th>2023-01-21 17:00:00</th>\n",
       "      <td>\"fish-0\"</td>\n",
       "      <td>49.74</td>\n",
       "      <td>49.79</td>\n",
       "      <td>49.79</td>\n",
       "      <td>49.74</td>\n",
       "    </tr>\n",
       "    <tr>\n",
       "      <th>...</th>\n",
       "      <td>...</td>\n",
       "      <td>...</td>\n",
       "      <td>...</td>\n",
       "      <td>...</td>\n",
       "      <td>...</td>\n",
       "    </tr>\n",
       "    <tr>\n",
       "      <th>2023-02-16 01:00:00</th>\n",
       "      <td>\"fish-0\"</td>\n",
       "      <td>35.00</td>\n",
       "      <td>35.00</td>\n",
       "      <td>35.00</td>\n",
       "      <td>35.00</td>\n",
       "    </tr>\n",
       "    <tr>\n",
       "      <th>2023-02-16 02:00:00</th>\n",
       "      <td>\"fish-0\"</td>\n",
       "      <td>35.00</td>\n",
       "      <td>34.50</td>\n",
       "      <td>35.00</td>\n",
       "      <td>34.50</td>\n",
       "    </tr>\n",
       "    <tr>\n",
       "      <th>2023-02-16 02:00:00</th>\n",
       "      <td>\"fish-0\"</td>\n",
       "      <td>35.00</td>\n",
       "      <td>34.50</td>\n",
       "      <td>35.00</td>\n",
       "      <td>34.50</td>\n",
       "    </tr>\n",
       "    <tr>\n",
       "      <th>2023-02-16 03:00:00</th>\n",
       "      <td>\"fish-0\"</td>\n",
       "      <td>34.50</td>\n",
       "      <td>34.00</td>\n",
       "      <td>34.50</td>\n",
       "      <td>34.00</td>\n",
       "    </tr>\n",
       "    <tr>\n",
       "      <th>2023-02-16 03:00:00</th>\n",
       "      <td>\"fish-0\"</td>\n",
       "      <td>34.50</td>\n",
       "      <td>34.00</td>\n",
       "      <td>34.50</td>\n",
       "      <td>34.00</td>\n",
       "    </tr>\n",
       "  </tbody>\n",
       "</table>\n",
       "<p>1134 rows × 5 columns</p>\n",
       "</div>"
      ],
      "text/plain": [
       "                           id   open  close   high    low\n",
       "timestamp                                                \n",
       "2023-01-21 15:00:00  \"fish-0\"  49.63  49.68  49.68  49.63\n",
       "2023-01-21 15:00:00  \"fish-0\"  49.63  49.68  49.68  49.63\n",
       "2023-01-21 16:00:00  \"fish-0\"  49.68  49.74  49.74  49.68\n",
       "2023-01-21 16:00:00  \"fish-0\"  49.68  49.74  49.74  49.68\n",
       "2023-01-21 17:00:00  \"fish-0\"  49.74  49.79  49.79  49.74\n",
       "...                       ...    ...    ...    ...    ...\n",
       "2023-02-16 01:00:00  \"fish-0\"  35.00  35.00  35.00  35.00\n",
       "2023-02-16 02:00:00  \"fish-0\"  35.00  34.50  35.00  34.50\n",
       "2023-02-16 02:00:00  \"fish-0\"  35.00  34.50  35.00  34.50\n",
       "2023-02-16 03:00:00  \"fish-0\"  34.50  34.00  34.50  34.00\n",
       "2023-02-16 03:00:00  \"fish-0\"  34.50  34.00  34.50  34.00\n",
       "\n",
       "[1134 rows x 5 columns]"
      ]
     },
     "execution_count": 999,
     "metadata": {},
     "output_type": "execute_result"
    }
   ],
   "source": [
    "recent_one_item"
   ]
  },
  {
   "cell_type": "code",
   "execution_count": 1000,
   "id": "137de41e-df8d-4808-8bb2-2e87937c2662",
   "metadata": {},
   "outputs": [],
   "source": [
    "sma = recent_one_item[recent_one_item.close < 730.00]"
   ]
  },
  {
   "cell_type": "code",
   "execution_count": 1001,
   "id": "254ec06b-f1e5-4c13-a2b6-fcfca8b46880",
   "metadata": {},
   "outputs": [],
   "source": [
    "sma = sma[['close']]\n",
    "# sma.plot(figsize=(15,8))\n",
    "window = 5\n",
    "sma = sma.rolling(window=window).median()[window-1:]#.pct_change()[window:]"
   ]
  },
  {
   "cell_type": "code",
   "execution_count": 1002,
   "id": "0c60098b-a353-4e1f-a625-45287c7ff8ba",
   "metadata": {},
   "outputs": [
    {
     "data": {
      "text/plain": [
       "<AxesSubplot:xlabel='timestamp'>"
      ]
     },
     "execution_count": 1002,
     "metadata": {},
     "output_type": "execute_result"
    },
    {
     "data": {
      "image/png": "[encoded data removed]",
      "text/plain": [
       "<Figure size 720x432 with 1 Axes>"
      ]
     },
     "metadata": {
      "needs_background": "light"
     },
     "output_type": "display_data"
    }
   ],
   "source": [
    "sma.plot(figsize=(10,6),lw=2)"
   ]
  },
  {
   "cell_type": "code",
   "execution_count": 1003,
   "id": "4ef596a3-e19b-4743-a0a5-c272eca83f28",
   "metadata": {},
   "outputs": [
    {
     "data": {
      "text/html": [
       "<div>\n",
       "<style scoped>\n",
       "    .dataframe tbody tr th:only-of-type {\n",
       "        vertical-align: middle;\n",
       "    }\n",
       "\n",
       "    .dataframe tbody tr th {\n",
       "        vertical-align: top;\n",
       "    }\n",
       "\n",
       "    .dataframe thead th {\n",
       "        text-align: right;\n",
       "    }\n",
       "</style>\n",
       "<table border=\"1\" class=\"dataframe\">\n",
       "  <thead>\n",
       "    <tr style=\"text-align: right;\">\n",
       "      <th></th>\n",
       "      <th>close</th>\n",
       "    </tr>\n",
       "    <tr>\n",
       "      <th>timestamp</th>\n",
       "      <th></th>\n",
       "    </tr>\n",
       "  </thead>\n",
       "  <tbody>\n",
       "    <tr>\n",
       "      <th>2023-01-21 17:00:00</th>\n",
       "      <td>49.74</td>\n",
       "    </tr>\n",
       "    <tr>\n",
       "      <th>2023-01-21 17:00:00</th>\n",
       "      <td>49.74</td>\n",
       "    </tr>\n",
       "    <tr>\n",
       "      <th>2023-01-21 18:00:00</th>\n",
       "      <td>49.79</td>\n",
       "    </tr>\n",
       "    <tr>\n",
       "      <th>2023-01-21 18:00:00</th>\n",
       "      <td>49.79</td>\n",
       "    </tr>\n",
       "    <tr>\n",
       "      <th>2023-01-21 19:00:00</th>\n",
       "      <td>49.84</td>\n",
       "    </tr>\n",
       "    <tr>\n",
       "      <th>...</th>\n",
       "      <td>...</td>\n",
       "    </tr>\n",
       "    <tr>\n",
       "      <th>2023-02-16 01:00:00</th>\n",
       "      <td>35.00</td>\n",
       "    </tr>\n",
       "    <tr>\n",
       "      <th>2023-02-16 02:00:00</th>\n",
       "      <td>35.00</td>\n",
       "    </tr>\n",
       "    <tr>\n",
       "      <th>2023-02-16 02:00:00</th>\n",
       "      <td>35.00</td>\n",
       "    </tr>\n",
       "    <tr>\n",
       "      <th>2023-02-16 03:00:00</th>\n",
       "      <td>34.50</td>\n",
       "    </tr>\n",
       "    <tr>\n",
       "      <th>2023-02-16 03:00:00</th>\n",
       "      <td>34.50</td>\n",
       "    </tr>\n",
       "  </tbody>\n",
       "</table>\n",
       "<p>1130 rows × 1 columns</p>\n",
       "</div>"
      ],
      "text/plain": [
       "                     close\n",
       "timestamp                 \n",
       "2023-01-21 17:00:00  49.74\n",
       "2023-01-21 17:00:00  49.74\n",
       "2023-01-21 18:00:00  49.79\n",
       "2023-01-21 18:00:00  49.79\n",
       "2023-01-21 19:00:00  49.84\n",
       "...                    ...\n",
       "2023-02-16 01:00:00  35.00\n",
       "2023-02-16 02:00:00  35.00\n",
       "2023-02-16 02:00:00  35.00\n",
       "2023-02-16 03:00:00  34.50\n",
       "2023-02-16 03:00:00  34.50\n",
       "\n",
       "[1130 rows x 1 columns]"
      ]
     },
     "execution_count": 1003,
     "metadata": {},
     "output_type": "execute_result"
    }
   ],
   "source": [
    "sma"
   ]
  },
  {
   "cell_type": "code",
   "execution_count": 1068,
   "id": "39515979-1054-445b-8bd7-ec4644c2a66a",
   "metadata": {},
   "outputs": [
    {
     "ename": "AssertionError",
     "evalue": "",
     "output_type": "error",
     "traceback": [
      "\u001b[1;31m---------------------------------------------------------------------------\u001b[0m",
      "\u001b[1;31mAssertionError\u001b[0m                            Traceback (most recent call last)",
      "Input \u001b[1;32mIn [1068]\u001b[0m, in \u001b[0;36m<cell line: 3>\u001b[1;34m()\u001b[0m\n\u001b[0;32m      1\u001b[0m \u001b[38;5;28;01mimport\u001b[39;00m \u001b[38;5;21;01mpingouin\u001b[39;00m \u001b[38;5;28;01mas\u001b[39;00m \u001b[38;5;21;01mpg\u001b[39;00m\n\u001b[1;32m----> 3\u001b[0m \u001b[43mpg\u001b[49m\u001b[38;5;241;43m.\u001b[39;49m\u001b[43mpartial_corr\u001b[49m\u001b[43m(\u001b[49m\u001b[43mdata\u001b[49m\u001b[38;5;241;43m=\u001b[39;49m\u001b[43mone_item_parse\u001b[49m\u001b[43m,\u001b[49m\u001b[43m \u001b[49m\u001b[43mx\u001b[49m\u001b[38;5;241;43m=\u001b[39;49m\u001b[38;5;124;43m'\u001b[39;49m\u001b[38;5;124;43mtimestamp\u001b[39;49m\u001b[38;5;124;43m'\u001b[39;49m\u001b[43m,\u001b[49m\u001b[43m \u001b[49m\u001b[43my\u001b[49m\u001b[38;5;241;43m=\u001b[39;49m\u001b[38;5;124;43m'\u001b[39;49m\u001b[38;5;124;43mopen\u001b[39;49m\u001b[38;5;124;43m'\u001b[39;49m\u001b[43m,\u001b[49m\u001b[43m \u001b[49m\u001b[43mcovar\u001b[49m\u001b[38;5;241;43m=\u001b[39;49m\u001b[38;5;124;43m'\u001b[39;49m\u001b[38;5;124;43mid\u001b[39;49m\u001b[38;5;124;43m'\u001b[39;49m\u001b[43m)\u001b[49m\n",
      "File \u001b[1;32m~\\anaconda3\\lib\\site-packages\\pingouin\\correlation.py:845\u001b[0m, in \u001b[0;36mpartial_corr\u001b[1;34m(data, x, y, covar, x_covar, y_covar, alternative, method)\u001b[0m\n\u001b[0;32m    843\u001b[0m \u001b[38;5;28;01massert\u001b[39;00m \u001b[38;5;28mall\u001b[39m([c \u001b[38;5;129;01min\u001b[39;00m data \u001b[38;5;28;01mfor\u001b[39;00m c \u001b[38;5;129;01min\u001b[39;00m col]), \u001b[38;5;124m\"\u001b[39m\u001b[38;5;124mcolumns are not in dataframe.\u001b[39m\u001b[38;5;124m\"\u001b[39m\n\u001b[0;32m    844\u001b[0m \u001b[38;5;66;03m# Check that columns are numeric\u001b[39;00m\n\u001b[1;32m--> 845\u001b[0m \u001b[38;5;28;01massert\u001b[39;00m \u001b[38;5;28mall\u001b[39m([data[c]\u001b[38;5;241m.\u001b[39mdtype\u001b[38;5;241m.\u001b[39mkind \u001b[38;5;129;01min\u001b[39;00m \u001b[38;5;124m\"\u001b[39m\u001b[38;5;124mbfiu\u001b[39m\u001b[38;5;124m\"\u001b[39m \u001b[38;5;28;01mfor\u001b[39;00m c \u001b[38;5;129;01min\u001b[39;00m col])\n\u001b[0;32m    847\u001b[0m \u001b[38;5;66;03m# Drop rows with NaN\u001b[39;00m\n\u001b[0;32m    848\u001b[0m data \u001b[38;5;241m=\u001b[39m data[col]\u001b[38;5;241m.\u001b[39mdropna()\n",
      "\u001b[1;31mAssertionError\u001b[0m: "
     ]
    }
   ],
   "source": [
    "import pingouin as pg\n",
    "\n",
    "pg.partial_corr(data=one_item_parse, x='timestamp', y='open', covar='id')"
   ]
  },
  {
   "cell_type": "code",
   "execution_count": 1064,
   "id": "2ee62a53-f610-41d4-861f-281b70805f55",
   "metadata": {},
   "outputs": [
    {
     "data": {
      "text/html": [
       "<div>\n",
       "<style scoped>\n",
       "    .dataframe tbody tr th:only-of-type {\n",
       "        vertical-align: middle;\n",
       "    }\n",
       "\n",
       "    .dataframe tbody tr th {\n",
       "        vertical-align: top;\n",
       "    }\n",
       "\n",
       "    .dataframe thead th {\n",
       "        text-align: right;\n",
       "    }\n",
       "</style>\n",
       "<table border=\"1\" class=\"dataframe\">\n",
       "  <thead>\n",
       "    <tr style=\"text-align: right;\">\n",
       "      <th></th>\n",
       "      <th>id</th>\n",
       "      <th>timestamp</th>\n",
       "      <th>open</th>\n",
       "      <th>close</th>\n",
       "      <th>high</th>\n",
       "      <th>low</th>\n",
       "    </tr>\n",
       "  </thead>\n",
       "  <tbody>\n",
       "    <tr>\n",
       "      <th>2639307</th>\n",
       "      <td>\"fish-0\"</td>\n",
       "      <td>2022-04-20 20:00:00</td>\n",
       "      <td>10.0</td>\n",
       "      <td>10.0</td>\n",
       "      <td>10.0</td>\n",
       "      <td>10.0</td>\n",
       "    </tr>\n",
       "    <tr>\n",
       "      <th>2639308</th>\n",
       "      <td>\"fish-0\"</td>\n",
       "      <td>2022-04-20 21:00:00</td>\n",
       "      <td>11.0</td>\n",
       "      <td>11.0</td>\n",
       "      <td>11.0</td>\n",
       "      <td>11.0</td>\n",
       "    </tr>\n",
       "    <tr>\n",
       "      <th>2639309</th>\n",
       "      <td>\"fish-0\"</td>\n",
       "      <td>2022-04-20 22:00:00</td>\n",
       "      <td>11.0</td>\n",
       "      <td>10.5</td>\n",
       "      <td>11.0</td>\n",
       "      <td>10.5</td>\n",
       "    </tr>\n",
       "    <tr>\n",
       "      <th>2639310</th>\n",
       "      <td>\"fish-0\"</td>\n",
       "      <td>2022-04-20 23:00:00</td>\n",
       "      <td>10.5</td>\n",
       "      <td>10.0</td>\n",
       "      <td>10.5</td>\n",
       "      <td>10.0</td>\n",
       "    </tr>\n",
       "    <tr>\n",
       "      <th>2639311</th>\n",
       "      <td>\"fish-0\"</td>\n",
       "      <td>2022-04-21 00:00:00</td>\n",
       "      <td>10.0</td>\n",
       "      <td>10.0</td>\n",
       "      <td>10.0</td>\n",
       "      <td>10.0</td>\n",
       "    </tr>\n",
       "    <tr>\n",
       "      <th>...</th>\n",
       "      <td>...</td>\n",
       "      <td>...</td>\n",
       "      <td>...</td>\n",
       "      <td>...</td>\n",
       "      <td>...</td>\n",
       "      <td>...</td>\n",
       "    </tr>\n",
       "    <tr>\n",
       "      <th>2654003</th>\n",
       "      <td>\"fish-0\"</td>\n",
       "      <td>2023-02-20 21:00:00</td>\n",
       "      <td>27.0</td>\n",
       "      <td>27.0</td>\n",
       "      <td>27.0</td>\n",
       "      <td>27.0</td>\n",
       "    </tr>\n",
       "    <tr>\n",
       "      <th>2654004</th>\n",
       "      <td>\"fish-0\"</td>\n",
       "      <td>2023-02-20 22:00:00</td>\n",
       "      <td>27.0</td>\n",
       "      <td>27.0</td>\n",
       "      <td>27.0</td>\n",
       "      <td>27.0</td>\n",
       "    </tr>\n",
       "    <tr>\n",
       "      <th>2654005</th>\n",
       "      <td>\"fish-0\"</td>\n",
       "      <td>2023-02-20 23:00:00</td>\n",
       "      <td>27.0</td>\n",
       "      <td>27.0</td>\n",
       "      <td>27.0</td>\n",
       "      <td>27.0</td>\n",
       "    </tr>\n",
       "    <tr>\n",
       "      <th>2654006</th>\n",
       "      <td>\"fish-0\"</td>\n",
       "      <td>2023-02-21 00:00:00</td>\n",
       "      <td>27.0</td>\n",
       "      <td>27.0</td>\n",
       "      <td>27.0</td>\n",
       "      <td>27.0</td>\n",
       "    </tr>\n",
       "    <tr>\n",
       "      <th>2654007</th>\n",
       "      <td>\"fish-0\"</td>\n",
       "      <td>2023-02-21 01:00:00</td>\n",
       "      <td>27.0</td>\n",
       "      <td>27.0</td>\n",
       "      <td>27.0</td>\n",
       "      <td>27.0</td>\n",
       "    </tr>\n",
       "  </tbody>\n",
       "</table>\n",
       "<p>14700 rows × 6 columns</p>\n",
       "</div>"
      ],
      "text/plain": [
       "               id           timestamp  open  close  high   low\n",
       "2639307  \"fish-0\" 2022-04-20 20:00:00  10.0   10.0  10.0  10.0\n",
       "2639308  \"fish-0\" 2022-04-20 21:00:00  11.0   11.0  11.0  11.0\n",
       "2639309  \"fish-0\" 2022-04-20 22:00:00  11.0   10.5  11.0  10.5\n",
       "2639310  \"fish-0\" 2022-04-20 23:00:00  10.5   10.0  10.5  10.0\n",
       "2639311  \"fish-0\" 2022-04-21 00:00:00  10.0   10.0  10.0  10.0\n",
       "...           ...                 ...   ...    ...   ...   ...\n",
       "2654003  \"fish-0\" 2023-02-20 21:00:00  27.0   27.0  27.0  27.0\n",
       "2654004  \"fish-0\" 2023-02-20 22:00:00  27.0   27.0  27.0  27.0\n",
       "2654005  \"fish-0\" 2023-02-20 23:00:00  27.0   27.0  27.0  27.0\n",
       "2654006  \"fish-0\" 2023-02-21 00:00:00  27.0   27.0  27.0  27.0\n",
       "2654007  \"fish-0\" 2023-02-21 01:00:00  27.0   27.0  27.0  27.0\n",
       "\n",
       "[14700 rows x 6 columns]"
      ]
     },
     "execution_count": 1064,
     "metadata": {},
     "output_type": "execute_result"
    }
   ],
   "source": []
  },
  {
   "cell_type": "code",
   "execution_count": 1027,
   "id": "a47462b7-039b-407f-9f2c-a4a079de36ee",
   "metadata": {},
   "outputs": [
    {
     "name": "stderr",
     "output_type": "stream",
     "text": [
      "C:\\Users\\saber\\AppData\\Local\\Temp\\ipykernel_9424\\3278005194.py:4: SettingWithCopyWarning: \n",
      "A value is trying to be set on a copy of a slice from a DataFrame.\n",
      "Try using .loc[row_indexer,col_indexer] = value instead\n",
      "\n",
      "See the caveats in the documentation: https://pandas.pydata.org/pandas-docs/stable/user_guide/indexing.html#returning-a-view-versus-a-copy\n",
      "  day_of_the_week.timestamp = day_of_the_week.timestamp.dt.day_name()\n"
     ]
    }
   ],
   "source": [
    "# last 45 days of record peering\n",
    "records_to_grab = 45*24\n",
    "day_of_the_week = one_item_parse[-records_to_grab:]\n",
    "day_of_the_week.timestamp = day_of_the_week.timestamp.dt.day_name()"
   ]
  },
  {
   "cell_type": "code",
   "execution_count": 1028,
   "id": "cf3fbe1a-4cbd-4da0-b512-4e8796f0ff39",
   "metadata": {},
   "outputs": [
    {
     "data": {
      "text/plain": [
       "<AxesSubplot:xlabel='timestamp'>"
      ]
     },
     "execution_count": 1028,
     "metadata": {},
     "output_type": "execute_result"
    },
    {
     "data": {
      "image/png": "[encoded data removed]",
      "text/plain": [
       "<Figure size 864x432 with 1 Axes>"
      ]
     },
     "metadata": {
      "needs_background": "light"
     },
     "output_type": "display_data"
    }
   ],
   "source": [
    "week_order = ['Tuesday','Wednesday', 'Thursday', 'Friday', 'Saturday', 'Sunday','Monday', 'Tuesday']\n",
    "weekly_change = day_of_the_week.groupby(['timestamp']).mean().reindex(week_order).pct_change()\n",
    "weekly_change.close.plot(figsize=(12,6))"
   ]
  },
  {
   "cell_type": "code",
   "execution_count": 1022,
   "id": "79f4c8b3-3940-42c8-92a5-523e82eb17a2",
   "metadata": {},
   "outputs": [
    {
     "data": {
      "text/html": [
       "<div>\n",
       "<style scoped>\n",
       "    .dataframe tbody tr th:only-of-type {\n",
       "        vertical-align: middle;\n",
       "    }\n",
       "\n",
       "    .dataframe tbody tr th {\n",
       "        vertical-align: top;\n",
       "    }\n",
       "\n",
       "    .dataframe thead th {\n",
       "        text-align: right;\n",
       "    }\n",
       "</style>\n",
       "<table border=\"1\" class=\"dataframe\">\n",
       "  <thead>\n",
       "    <tr style=\"text-align: right;\">\n",
       "      <th></th>\n",
       "      <th>id</th>\n",
       "      <th>timestamp</th>\n",
       "      <th>open</th>\n",
       "      <th>close</th>\n",
       "      <th>high</th>\n",
       "      <th>low</th>\n",
       "    </tr>\n",
       "  </thead>\n",
       "  <tbody>\n",
       "    <tr>\n",
       "      <th>1</th>\n",
       "      <td>\"achatemeow-selection-chest-3\"</td>\n",
       "      <td>2022-05-06 15:00:00</td>\n",
       "      <td>4888.00</td>\n",
       "      <td>4888.00</td>\n",
       "      <td>4888.00</td>\n",
       "      <td>4888.00</td>\n",
       "    </tr>\n",
       "    <tr>\n",
       "      <th>2</th>\n",
       "      <td>\"achatemeow-selection-chest-3\"</td>\n",
       "      <td>2022-05-06 16:00:00</td>\n",
       "      <td>4888.00</td>\n",
       "      <td>4823.33</td>\n",
       "      <td>4888.00</td>\n",
       "      <td>4823.33</td>\n",
       "    </tr>\n",
       "    <tr>\n",
       "      <th>3</th>\n",
       "      <td>\"achatemeow-selection-chest-3\"</td>\n",
       "      <td>2022-05-06 17:00:00</td>\n",
       "      <td>4823.33</td>\n",
       "      <td>4758.67</td>\n",
       "      <td>4823.33</td>\n",
       "      <td>4758.67</td>\n",
       "    </tr>\n",
       "    <tr>\n",
       "      <th>4</th>\n",
       "      <td>\"achatemeow-selection-chest-3\"</td>\n",
       "      <td>2022-05-06 18:00:00</td>\n",
       "      <td>4758.67</td>\n",
       "      <td>4694.00</td>\n",
       "      <td>4758.67</td>\n",
       "      <td>4694.00</td>\n",
       "    </tr>\n",
       "    <tr>\n",
       "      <th>5</th>\n",
       "      <td>\"achatemeow-selection-chest-3\"</td>\n",
       "      <td>2022-05-06 19:00:00</td>\n",
       "      <td>4694.00</td>\n",
       "      <td>4629.33</td>\n",
       "      <td>4694.00</td>\n",
       "      <td>4629.33</td>\n",
       "    </tr>\n",
       "    <tr>\n",
       "      <th>...</th>\n",
       "      <td>...</td>\n",
       "      <td>...</td>\n",
       "      <td>...</td>\n",
       "      <td>...</td>\n",
       "      <td>...</td>\n",
       "      <td>...</td>\n",
       "    </tr>\n",
       "    <tr>\n",
       "      <th>2654003</th>\n",
       "      <td>\"fish-0\"</td>\n",
       "      <td>2023-02-20 21:00:00</td>\n",
       "      <td>27.00</td>\n",
       "      <td>27.00</td>\n",
       "      <td>27.00</td>\n",
       "      <td>27.00</td>\n",
       "    </tr>\n",
       "    <tr>\n",
       "      <th>2654004</th>\n",
       "      <td>\"fish-0\"</td>\n",
       "      <td>2023-02-20 22:00:00</td>\n",
       "      <td>27.00</td>\n",
       "      <td>27.00</td>\n",
       "      <td>27.00</td>\n",
       "      <td>27.00</td>\n",
       "    </tr>\n",
       "    <tr>\n",
       "      <th>2654005</th>\n",
       "      <td>\"fish-0\"</td>\n",
       "      <td>2023-02-20 23:00:00</td>\n",
       "      <td>27.00</td>\n",
       "      <td>27.00</td>\n",
       "      <td>27.00</td>\n",
       "      <td>27.00</td>\n",
       "    </tr>\n",
       "    <tr>\n",
       "      <th>2654006</th>\n",
       "      <td>\"fish-0\"</td>\n",
       "      <td>2023-02-21 00:00:00</td>\n",
       "      <td>27.00</td>\n",
       "      <td>27.00</td>\n",
       "      <td>27.00</td>\n",
       "      <td>27.00</td>\n",
       "    </tr>\n",
       "    <tr>\n",
       "      <th>2654007</th>\n",
       "      <td>\"fish-0\"</td>\n",
       "      <td>2023-02-21 01:00:00</td>\n",
       "      <td>27.00</td>\n",
       "      <td>27.00</td>\n",
       "      <td>27.00</td>\n",
       "      <td>27.00</td>\n",
       "    </tr>\n",
       "  </tbody>\n",
       "</table>\n",
       "<p>2653846 rows × 6 columns</p>\n",
       "</div>"
      ],
      "text/plain": [
       "                                     id           timestamp     open    close  \\\n",
       "1        \"achatemeow-selection-chest-3\" 2022-05-06 15:00:00  4888.00  4888.00   \n",
       "2        \"achatemeow-selection-chest-3\" 2022-05-06 16:00:00  4888.00  4823.33   \n",
       "3        \"achatemeow-selection-chest-3\" 2022-05-06 17:00:00  4823.33  4758.67   \n",
       "4        \"achatemeow-selection-chest-3\" 2022-05-06 18:00:00  4758.67  4694.00   \n",
       "5        \"achatemeow-selection-chest-3\" 2022-05-06 19:00:00  4694.00  4629.33   \n",
       "...                                 ...                 ...      ...      ...   \n",
       "2654003                        \"fish-0\" 2023-02-20 21:00:00    27.00    27.00   \n",
       "2654004                        \"fish-0\" 2023-02-20 22:00:00    27.00    27.00   \n",
       "2654005                        \"fish-0\" 2023-02-20 23:00:00    27.00    27.00   \n",
       "2654006                        \"fish-0\" 2023-02-21 00:00:00    27.00    27.00   \n",
       "2654007                        \"fish-0\" 2023-02-21 01:00:00    27.00    27.00   \n",
       "\n",
       "            high      low  \n",
       "1        4888.00  4888.00  \n",
       "2        4888.00  4823.33  \n",
       "3        4823.33  4758.67  \n",
       "4        4758.67  4694.00  \n",
       "5        4694.00  4629.33  \n",
       "...          ...      ...  \n",
       "2654003    27.00    27.00  \n",
       "2654004    27.00    27.00  \n",
       "2654005    27.00    27.00  \n",
       "2654006    27.00    27.00  \n",
       "2654007    27.00    27.00  \n",
       "\n",
       "[2653846 rows x 6 columns]"
      ]
     },
     "execution_count": 1022,
     "metadata": {},
     "output_type": "execute_result"
    }
   ],
   "source": [
    "df\n",
    "# weekly_change"
   ]
  },
  {
   "cell_type": "markdown",
   "id": "85853cea-3058-4614-9983-8d1e61dd8140",
   "metadata": {},
   "source": [
    "### ar"
   ]
  },
  {
   "cell_type": "code",
   "execution_count": 1030,
   "id": "73dfb211-7e6d-4b5a-887c-edbd23877714",
   "metadata": {},
   "outputs": [],
   "source": [
    "from statsmodels.tsa.stattools import adfuller\n",
    "\n",
    "df_stattest = adfuller(one_item_parse.close, autolag='AIC')"
   ]
  },
  {
   "cell_type": "code",
   "execution_count": 1031,
   "id": "e1aa05d5-2f65-4e0e-829f-f5a68571b85e",
   "metadata": {},
   "outputs": [
    {
     "name": "stdout",
     "output_type": "stream",
     "text": [
      "P-value: 0.005397717320922696\n"
     ]
    }
   ],
   "source": [
    "print(f'P-value: {df_stattest[1]}')"
   ]
  },
  {
   "cell_type": "code",
   "execution_count": 1042,
   "id": "e92496bd-3db9-43c4-ae01-ca8355919f0d",
   "metadata": {},
   "outputs": [
    {
     "data": {
      "image/png": "[encoded data removed]",
      "text/plain": [
       "<Figure size 720x288 with 1 Axes>"
      ]
     },
     "metadata": {
      "needs_background": "light"
     },
     "output_type": "display_data"
    }
   ],
   "source": [
    "from statsmodels.graphics.tsaplots import plot_pacf\n",
    "\n",
    "with plt.rc_context():\n",
    "    plt.rc(\"figure\", figsize=(10,4))\n",
    "    pacf = plot_pacf(one_item_parse.close,lags=45,method=\"ywm\")"
   ]
  },
  {
   "cell_type": "code",
   "execution_count": 1052,
   "id": "1f39d88d-a4fe-44f4-9228-114f5e7d4902",
   "metadata": {},
   "outputs": [],
   "source": [
    "last_week = -24*45\n",
    "training_data = one_item_parse.close[:last_week]\n",
    "test_data = one_item_parse.close[last_week:]"
   ]
  },
  {
   "cell_type": "code",
   "execution_count": 1053,
   "id": "eb5ae775-4527-4ec5-b3f8-58ba50680d0a",
   "metadata": {},
   "outputs": [
    {
     "name": "stderr",
     "output_type": "stream",
     "text": [
      "C:\\Users\\saber\\anaconda3\\lib\\site-packages\\statsmodels\\tsa\\base\\tsa_model.py:471: ValueWarning: An unsupported index was provided and will be ignored when e.g. forecasting.\n",
      "  self._init_dates(dates, freq)\n"
     ]
    }
   ],
   "source": [
    "ar_model = AutoReg(training_data,lags=45).fit()"
   ]
  },
  {
   "cell_type": "code",
   "execution_count": 1054,
   "id": "ea471f8b-50e6-47ff-80ef-839cdf20f5e9",
   "metadata": {},
   "outputs": [
    {
     "name": "stdout",
     "output_type": "stream",
     "text": [
      "                            AutoReg Model Results                             \n",
      "==============================================================================\n",
      "Dep. Variable:                  close   No. Observations:                13620\n",
      "Model:                    AutoReg(45)   Log Likelihood              -13459.654\n",
      "Method:               Conditional MLE   S.D. of innovations              0.652\n",
      "Date:                Tue, 21 Feb 2023   AIC                          27013.308\n",
      "Time:                        23:20:54   BIC                          27366.560\n",
      "Sample:                            45   HQIC                         27131.088\n",
      "                                13620                                         \n",
      "==============================================================================\n",
      "                 coef    std err          z      P>|z|      [0.025      0.975]\n",
      "------------------------------------------------------------------------------\n",
      "const          0.0335      0.011      2.953      0.003       0.011       0.056\n",
      "close.L1       1.5069      0.009    175.593      0.000       1.490       1.524\n",
      "close.L2      -0.5586      0.016    -36.012      0.000      -0.589      -0.528\n",
      "close.L3       0.0258      0.016      1.588      0.112      -0.006       0.058\n",
      "close.L4       0.0249      0.016      1.536      0.124      -0.007       0.057\n",
      "close.L5      -0.0497      0.016     -3.062      0.002      -0.081      -0.018\n",
      "close.L6       0.0413      0.016      2.548      0.011       0.010       0.073\n",
      "close.L7       0.0815      0.016      5.024      0.000       0.050       0.113\n",
      "close.L8      -0.0656      0.016     -4.040      0.000      -0.097      -0.034\n",
      "close.L9      -0.0266      0.016     -1.636      0.102      -0.058       0.005\n",
      "close.L10      0.0149      0.016      0.916      0.360      -0.017       0.047\n",
      "close.L11     -0.0115      0.016     -0.708      0.479      -0.043       0.020\n",
      "close.L12     -0.0261      0.016     -1.603      0.109      -0.058       0.006\n",
      "close.L13      0.0733      0.016      4.508      0.000       0.041       0.105\n",
      "close.L14     -0.0547      0.016     -3.364      0.001      -0.087      -0.023\n",
      "close.L15     -0.0033      0.016     -0.201      0.840      -0.035       0.029\n",
      "close.L16      0.0282      0.016      1.733      0.083      -0.004       0.060\n",
      "close.L17     -0.0170      0.016     -1.048      0.295      -0.049       0.015\n",
      "close.L18     -0.0234      0.016     -1.436      0.151      -0.055       0.009\n",
      "close.L19      0.0735      0.016      4.519      0.000       0.042       0.105\n",
      "close.L20     -0.0370      0.016     -2.273      0.023      -0.069      -0.005\n",
      "close.L21     -0.0011      0.016     -0.067      0.946      -0.033       0.031\n",
      "close.L22     -0.0008      0.016     -0.047      0.963      -0.033       0.031\n",
      "close.L23      0.0163      0.016      1.000      0.317      -0.016       0.048\n",
      "close.L24     -0.0187      0.016     -1.150      0.250      -0.051       0.013\n",
      "close.L25      0.0349      0.016      2.147      0.032       0.003       0.067\n",
      "close.L26     -0.0379      0.016     -2.331      0.020      -0.070      -0.006\n",
      "close.L27      0.0166      0.016      1.022      0.307      -0.015       0.049\n",
      "close.L28      0.0047      0.016      0.290      0.771      -0.027       0.037\n",
      "close.L29     -0.0256      0.016     -1.574      0.115      -0.058       0.006\n",
      "close.L30      0.0344      0.016      2.116      0.034       0.003       0.066\n",
      "close.L31     -0.0583      0.016     -3.584      0.000      -0.090      -0.026\n",
      "close.L32      0.0294      0.016      1.808      0.071      -0.002       0.061\n",
      "close.L33      0.0095      0.016      0.587      0.557      -0.022       0.041\n",
      "close.L34     -0.0011      0.016     -0.066      0.948      -0.033       0.031\n",
      "close.L35     -0.0124      0.016     -0.762      0.446      -0.044       0.019\n",
      "close.L36      0.0010      0.016      0.061      0.951      -0.031       0.033\n",
      "close.L37      0.0103      0.016      0.636      0.525      -0.022       0.042\n",
      "close.L38      0.0021      0.016      0.131      0.896      -0.030       0.034\n",
      "close.L39     -0.0093      0.016     -0.570      0.568      -0.041       0.023\n",
      "close.L40     -0.0071      0.016     -0.439      0.661      -0.039       0.025\n",
      "close.L41      0.0341      0.016      2.104      0.035       0.002       0.066\n",
      "close.L42      0.0009      0.016      0.057      0.955      -0.031       0.033\n",
      "close.L43     -0.0725      0.016     -4.470      0.000      -0.104      -0.041\n",
      "close.L44      0.0704      0.016      4.536      0.000       0.040       0.101\n",
      "close.L45     -0.0181      0.009     -2.103      0.035      -0.035      -0.001\n",
      "                                    Roots                                     \n",
      "==============================================================================\n",
      "                   Real          Imaginary           Modulus         Frequency\n",
      "------------------------------------------------------------------------------\n",
      "AR.1            -1.0772           -0.0000j            1.0772           -0.5000\n",
      "AR.2            -1.0571           -0.1660j            1.0700           -0.4752\n",
      "AR.3            -1.0571           +0.1660j            1.0700            0.4752\n",
      "AR.4            -1.0423           -0.3042j            1.0857           -0.4548\n",
      "AR.5            -1.0423           +0.3042j            1.0857            0.4548\n",
      "AR.6            -0.9660           -0.4431j            1.0628           -0.4316\n",
      "AR.7            -0.9660           +0.4431j            1.0628            0.4316\n",
      "AR.8            -0.8880           -0.5965j            1.0698           -0.4059\n",
      "AR.9            -0.8880           +0.5965j            1.0698            0.4059\n",
      "AR.10           -0.8057           -0.7173j            1.0787           -0.3842\n",
      "AR.11           -0.8057           +0.7173j            1.0787            0.3842\n",
      "AR.12           -0.6830           -0.8093j            1.0590           -0.3616\n",
      "AR.13           -0.6830           +0.8093j            1.0590            0.3616\n",
      "AR.14           -0.5514           -0.9224j            1.0746           -0.3357\n",
      "AR.15           -0.5514           +0.9224j            1.0746            0.3357\n",
      "AR.16           -0.4012           -0.9850j            1.0635           -0.3116\n",
      "AR.17           -0.4012           +0.9850j            1.0635            0.3116\n",
      "AR.18           -0.2665           -1.0262j            1.0602           -0.2904\n",
      "AR.19           -0.2665           +1.0262j            1.0602            0.2904\n",
      "AR.20           -0.1022           -1.0505j            1.0554           -0.2654\n",
      "AR.21           -0.1022           +1.0505j            1.0554            0.2654\n",
      "AR.22            0.0584           -1.0545j            1.0561           -0.2412\n",
      "AR.23            0.0584           +1.0545j            1.0561            0.2412\n",
      "AR.24            0.2281           -1.0540j            1.0784           -0.2161\n",
      "AR.25            0.2281           +1.0540j            1.0784            0.2161\n",
      "AR.26            0.3618           -1.0215j            1.0837           -0.1958\n",
      "AR.27            0.3618           +1.0215j            1.0837            0.1958\n",
      "AR.28            0.5177           -0.9482j            1.0803           -0.1705\n",
      "AR.29            0.5177           +0.9482j            1.0803            0.1705\n",
      "AR.30            0.6507           -0.8463j            1.0676           -0.1457\n",
      "AR.31            0.6507           +0.8463j            1.0676            0.1457\n",
      "AR.32            0.7792           -0.7667j            1.0931           -0.1237\n",
      "AR.33            0.7792           +0.7667j            1.0931            0.1237\n",
      "AR.34            0.8646           -0.6606j            1.0881           -0.1038\n",
      "AR.35            0.8646           +0.6606j            1.0881            0.1038\n",
      "AR.36            1.0016           -0.0000j            1.0016           -0.0000\n",
      "AR.37            1.0673           -0.0948j            1.0715           -0.0141\n",
      "AR.38            1.0673           +0.0948j            1.0715            0.0141\n",
      "AR.39            1.0281           -0.2604j            1.0605           -0.0395\n",
      "AR.40            1.0281           +0.2604j            1.0605            0.0395\n",
      "AR.41            0.9576           -0.5150j            1.0873           -0.0785\n",
      "AR.42            0.9576           +0.5150j            1.0873            0.0785\n",
      "AR.43            1.0935           -0.4299j            1.1750           -0.0596\n",
      "AR.44            1.0935           +0.4299j            1.1750            0.0596\n",
      "AR.45            2.2724           -0.0000j            2.2724           -0.0000\n",
      "------------------------------------------------------------------------------\n"
     ]
    }
   ],
   "source": [
    "print(ar_model.summary())"
   ]
  },
  {
   "cell_type": "code",
   "execution_count": 1058,
   "id": "269dedc6-7a2b-4f55-9939-502d81cbe7ce",
   "metadata": {},
   "outputs": [
    {
     "name": "stderr",
     "output_type": "stream",
     "text": [
      "C:\\Users\\saber\\anaconda3\\lib\\site-packages\\statsmodels\\tsa\\base\\tsa_model.py:834: ValueWarning: No supported index is available. Prediction results will be given with an integer index beginning at `start`.\n",
      "  return get_prediction_index(\n",
      "C:\\Users\\saber\\anaconda3\\lib\\site-packages\\statsmodels\\tsa\\deterministic.py:302: UserWarning: Only PeriodIndexes, DatetimeIndexes with a frequency set, RangesIndexes, and Index with a unit increment support extending. The index is set will contain the position relative to the data length.\n",
      "  fcast_index = self._extend_index(index, steps, forecast_index)\n"
     ]
    }
   ],
   "source": [
    "pred = ar_model.predict(start=len(training_data),end=(len(one_item_parse)-1),dynamic=False)"
   ]
  },
  {
   "cell_type": "code",
   "execution_count": 1059,
   "id": "86c250d2-d5a0-4981-b178-3f9904af8969",
   "metadata": {},
   "outputs": [
    {
     "data": {
      "text/plain": [
       "[<matplotlib.lines.Line2D at 0x221078ba700>]"
      ]
     },
     "execution_count": 1059,
     "metadata": {},
     "output_type": "execute_result"
    },
    {
     "data": {
      "image/png": "[encoded data removed]",
      "text/plain": [
       "<Figure size 144x144 with 1 Axes>"
      ]
     },
     "metadata": {
      "needs_background": "light"
     },
     "output_type": "display_data"
    }
   ],
   "source": [
    "from matplotlib import pyplot\n",
    "pyplot.plot(pred)\n",
    "pyplot.plot(test_data,color='orange')"
   ]
  },
  {
   "cell_type": "code",
   "execution_count": 20,
   "id": "9895348f-b8e1-4d24-a38d-ba92435c4254",
   "metadata": {},
   "outputs": [
    {
     "data": {
      "text/plain": [
       "6003    22.00\n",
       "6004    22.00\n",
       "6005    22.00\n",
       "6006    22.00\n",
       "6007    22.00\n",
       "        ...  \n",
       "6883    41.67\n",
       "6884    41.00\n",
       "6885    40.33\n",
       "6886    39.67\n",
       "6887    39.00\n",
       "Name: close, Length: 885, dtype: float64"
      ]
     },
     "execution_count": 20,
     "metadata": {},
     "output_type": "execute_result"
    }
   ],
   "source": [
    "df.close[6000:last_week]"
   ]
  },
  {
   "cell_type": "code",
   "execution_count": null,
   "id": "5c0e686a-0d79-4f0d-b7af-12695beaab07",
   "metadata": {},
   "outputs": [],
   "source": []
  }
 ],
 "metadata": {
  "kernelspec": {
   "display_name": "Python 3 (ipykernel)",
   "language": "python",
   "name": "python3"
  },
  "language_info": {
   "codemirror_mode": {
    "name": "ipython",
    "version": 3
   },
   "file_extension": ".py",
   "mimetype": "text/x-python",
   "name": "python",
   "nbconvert_exporter": "python",
   "pygments_lexer": "ipython3",
   "version": "3.9.12"
  }
 },
 "nbformat": 4,
 "nbformat_minor": 5
}
