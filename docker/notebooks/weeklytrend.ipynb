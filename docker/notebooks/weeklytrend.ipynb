{
 "cells": [
  {
   "cell_type": "code",
   "execution_count": 1,
   "id": "8c67da15-30b7-498b-a38f-f6d34217f760",
   "metadata": {},
   "outputs": [],
   "source": [
    "import requests\n",
    "import pandas as pd\n",
    "import numpy as np\n",
    "import matplotlib.pyplot as plt\n",
    "import json\n",
    "from datetime import datetime\n",
    "from dateutil.relativedelta import relativedelta\n",
    "\n",
    "# Load AutoReg class from statsmodels.tsa.ar_model module\n",
    "#\n",
    "from statsmodels.tsa.ar_model import AutoReg"
   ]
  },
  {
   "cell_type": "code",
   "execution_count": 2,
   "id": "d4c99f6a-2c17-4869-9eb8-05c1f8e54dc7",
   "metadata": {},
   "outputs": [],
   "source": [
    "# url = 'https://www.lostarkmarket.online/api/export-item-history/North America West/achatemeow-selection-chest-3,achatemeow-selection-chest-3,armor-wagon-selection-chest-4,bike-mount-selection-chest-4,blue-crystal-0?format=csv'\n",
    "# res = requests.get(url)\n",
    "# res.text"
   ]
  },
  {
   "cell_type": "code",
   "execution_count": 3,
   "id": "74af4206-1254-4354-95da-06eb2ff932d1",
   "metadata": {},
   "outputs": [],
   "source": [
    "import time\n",
    "def create_item_ids_csv():\n",
    "    '''\n",
    "    This gets the list of the current active items and their item ID and returns it as a list.\n",
    "    '''\n",
    "    list_url = \"https://www.lostarkmarket.online/api/export-market-live/North America East?categories=Gem Chest,Mount,Currency Exchange,Skin,Cooking?format=csv\"\n",
    "    res = requests.get(list_url)\n",
    "    time.sleep(5)\n",
    "    two_url = \"https://www.lostarkmarket.online/api/export-market-live/North America East?categories=Enhancement Material,Trader,Engraving Recipe,Combat Supplies,Adventurer's Tome,Cooking?format=csv\"\n",
    "    restwo = requests.get(two_url)\n",
    "\n",
    "    part_one = str(res.text)\n",
    "    part_two = str(restwo.text)\n",
    "    # remove the ending and starting brackets to join as 1 obj\n",
    "    big_res = part_one[:-1] + ',' + part_two[1:]\n",
    "\n",
    "    item_ids = []\n",
    "    for x in big_res[1:][:-1].split(','):\n",
    "        if '{\"id\":\"' in x:\n",
    "            value = x.split('{\"id\":')[1].replace('\"','')\n",
    "            item_ids.append(value)\n",
    "    pd.DataFrame(item_ids,columns=['item_id']).to_csv('item_ids.csv')\n",
    "    return item_ids"
   ]
  },
  {
   "cell_type": "code",
   "execution_count": 4,
   "id": "0dccf436-59e3-40ac-800c-3b68f7287934",
   "metadata": {},
   "outputs": [],
   "source": [
    "item_ids = create_item_ids_csv()"
   ]
  },
  {
   "cell_type": "code",
   "execution_count": 5,
   "id": "2e992dfc-d7d6-4a80-a4f0-aac2b41a201a",
   "metadata": {},
   "outputs": [
    {
     "name": "stdout",
     "output_type": "stream",
     "text": [
      "harmony-shard-pouch-l-3\n",
      "harmony-shard-pouch-m-2\n",
      "harmony-shard-pouch-s-1\n",
      "honor-shard-pouch-l-3\n",
      "honor-shard-pouch-m-2\n",
      "honor-shard-pouch-s-1\n",
      "life-shard-pouch-l-3\n",
      "life-shard-pouch-m-2\n",
      "life-shard-pouch-s-1\n"
     ]
    }
   ],
   "source": [
    "for x in item_ids:\n",
    "    if 'shard' in x:\n",
    "        print(x)"
   ]
  },
  {
   "cell_type": "code",
   "execution_count": 6,
   "id": "5a64a3b7-a537-4f7e-9970-f7f6c01ca918",
   "metadata": {
    "tags": []
   },
   "outputs": [],
   "source": [
    "#@TODO only pull the IDS and then parse that data to a dictionary, to then send to api calls to get the historical records.\n",
    "# can do many IDS at once with historical."
   ]
  },
  {
   "cell_type": "code",
   "execution_count": 7,
   "id": "2c1cc075-36f6-413d-830a-207700b0a131",
   "metadata": {
    "tags": []
   },
   "outputs": [
    {
     "name": "stdout",
     "output_type": "stream",
     "text": [
      "Starting download\n",
      "0/127\n",
      "5/127\n",
      "10/127\n",
      "15/127\n",
      "20/127\n",
      "25/127\n",
      "30/127\n",
      "35/127\n",
      "40/127\n",
      "45/127\n",
      "50/127\n",
      "55/127\n",
      "60/127\n",
      "65/127\n",
      "70/127\n",
      "75/127\n",
      "80/127\n",
      "85/127\n",
      "90/127\n",
      "95/127\n",
      "100/127\n",
      "105/127\n",
      "110/127\n",
      "115/127\n",
      "120/127\n",
      "125/127\n"
     ]
    }
   ],
   "source": [
    "url_base = 'https://www.lostarkmarket.online/api/export-item-history/North America East/'\n",
    "query_size = 5 # edit the URL if you adjust this number\n",
    "remainder = len(item_ids)%query_size\n",
    "sections = remainder/query_size\n",
    "df_frame = []\n",
    "\n",
    "print('Starting download')\n",
    "# get the main grouping of items\n",
    "if len(item_ids[:-0]) == 0:\n",
    "    values_to_review = int(len(item_ids)/query_size)\n",
    "else:\n",
    "    #remove past the query size limit\n",
    "    values_to_review = int(len(item_ids[:-remainder])/query_size)\n",
    "    \n",
    "for i in range(values_to_review):\n",
    "    #pirnt a status value\n",
    "    if i%query_size == 0:\n",
    "        print(f'{i}/{values_to_review}')\n",
    "        \n",
    "    # construct a url\n",
    "    list_url = f\"{url_base}\\\n",
    "{item_ids[int((sections*0)+i)]},\\\n",
    "{item_ids[int((sections*1)+i)]},\\\n",
    "{item_ids[int((sections*2)+i)]},\\\n",
    "{item_ids[int((sections*3)+i)]},\\\n",
    "{item_ids[int((sections*4)+i)]}?format=csv\"\n",
    "    try:\n",
    "        res = requests.get(list_url)\n",
    "        for x in res.text.split('\\n'):\n",
    "            x = x.split(',')\n",
    "            df_frame.append(x)\n",
    "    except:\n",
    "        print(f'BAD URL FOUND: {list_url}')\n",
    "        continue\n",
    "    # for the sake of not hitting the free public API too hard. \n",
    "    time.sleep(10)\n",
    "\n",
    "if remainder == 0:\n",
    "    pass\n",
    "else:\n",
    "    # don't forget the remainding items\n",
    "    print(f'Starting final {remainder}')\n",
    "    for i in range(int(len(item_ids[-remainder:]))):\n",
    "        print(f'Starting {i}/{remainder}')\n",
    "        list_url = f\"{url_base}{item_ids[i]}?format=csv\"\n",
    "        try:\n",
    "            res = requests.get(list_url)\n",
    "            for x in res.text.split('\\n'):\n",
    "                x = x.split(',')\n",
    "                df_frame.append(x)\n",
    "            time.sleep(5)\n",
    "        except:\n",
    "            print(f'BAD URL FOUND: {list_url}')\n",
    "            continue"
   ]
  },
  {
   "cell_type": "code",
   "execution_count": 8,
   "id": "75424609-2618-47ea-9e05-c2642292e595",
   "metadata": {
    "tags": []
   },
   "outputs": [],
   "source": [
    "url = 'https://www.lostarkmarket.online/api/export-item-history/North America East/superior-oreha-fusion-material-4?format=csv'\n",
    "res = requests.get(url)\n",
    "for x in res.text.split('\\n'):\n",
    "    x = x.split(',')\n",
    "    df_frame.append(x)"
   ]
  },
  {
   "cell_type": "code",
   "execution_count": null,
   "id": "868032bc-2d60-424e-9e0b-19e2bbe143f7",
   "metadata": {},
   "outputs": [],
   "source": []
  },
  {
   "cell_type": "code",
   "execution_count": 9,
   "id": "e5d1d2f2-9d90-4cac-be62-0fb273c748ed",
   "metadata": {
    "tags": []
   },
   "outputs": [],
   "source": [
    "df = pd.DataFrame(df_frame)\n",
    "df.to_csv('raw.csv')"
   ]
  },
  {
   "cell_type": "code",
   "execution_count": 10,
   "id": "86bc0901-79f5-480a-95ef-3e274e3246cd",
   "metadata": {},
   "outputs": [],
   "source": [
    "df.columns = df.iloc[0]\n",
    "df = df.iloc[1:]"
   ]
  },
  {
   "cell_type": "code",
   "execution_count": 11,
   "id": "ea945f2a-c84e-484d-a1ea-6bcec693104e",
   "metadata": {},
   "outputs": [],
   "source": [
    "removed_quote_columns = []\n",
    "for x in list(df.columns):\n",
    "    x = x.replace('\"','')\n",
    "    removed_quote_columns.append(x)\n",
    "df.columns = removed_quote_columns"
   ]
  },
  {
   "cell_type": "code",
   "execution_count": null,
   "id": "f05b6430-63c8-417d-bd1a-2aa9830813d4",
   "metadata": {},
   "outputs": [],
   "source": []
  },
  {
   "cell_type": "code",
   "execution_count": 12,
   "id": "7e9a4d7a-de25-4719-ade5-e716157b51bb",
   "metadata": {},
   "outputs": [],
   "source": [
    "df = df[df['open'].str.contains('[A-Za-z]') == False]\n",
    "df = df[df['close'].str.contains('[A-Za-z]') == False]\n",
    "df = df[df['high'].str.contains('[A-Za-z]') == False]\n",
    "df = df[df['low'].str.contains('[A-Za-z]') == False]\n",
    "df = df[df.open != '']\n",
    "df = df[df.close != '']\n",
    "df = df[df.high != '']\n",
    "df = df[df.low != '']\n",
    "df = df[df.open != 0]\n",
    "df = df[df.close != 0]\n",
    "df = df[df.high != 0]\n",
    "df = df[df.low != 0]"
   ]
  },
  {
   "cell_type": "code",
   "execution_count": 13,
   "id": "b1f1721b-6e7b-4810-bf68-1f585b727c0b",
   "metadata": {},
   "outputs": [],
   "source": [
    "df[[ 'open', 'close', 'high', 'low']] = df[[ 'open', 'close', 'high', 'low']].astype('float')\n",
    "df.to_csv('clean_raw_timestamp.csv')\n",
    "df['timestamp'] = pd.to_datetime(df['timestamp'].astype('int64'),unit='ms')\n",
    "df.to_csv('clean_db.csv')"
   ]
  },
  {
   "cell_type": "code",
   "execution_count": 31,
   "id": "56e34af3-9468-44d3-8f76-a1f5ee1d273d",
   "metadata": {},
   "outputs": [
    {
     "data": {
      "text/html": [
       "<div>\n",
       "<style scoped>\n",
       "    .dataframe tbody tr th:only-of-type {\n",
       "        vertical-align: middle;\n",
       "    }\n",
       "\n",
       "    .dataframe tbody tr th {\n",
       "        vertical-align: top;\n",
       "    }\n",
       "\n",
       "    .dataframe thead th {\n",
       "        text-align: right;\n",
       "    }\n",
       "</style>\n",
       "<table border=\"1\" class=\"dataframe\">\n",
       "  <thead>\n",
       "    <tr style=\"text-align: right;\">\n",
       "      <th></th>\n",
       "      <th>id</th>\n",
       "      <th>timestamp</th>\n",
       "      <th>open</th>\n",
       "      <th>close</th>\n",
       "      <th>high</th>\n",
       "      <th>low</th>\n",
       "    </tr>\n",
       "  </thead>\n",
       "  <tbody>\n",
       "    <tr>\n",
       "      <th>1</th>\n",
       "      <td>\"achatemeow-selection-chest-3\"</td>\n",
       "      <td>2022-05-05 17:00:00</td>\n",
       "      <td>2880.00</td>\n",
       "      <td>2880.00</td>\n",
       "      <td>2880.00</td>\n",
       "      <td>2880.00</td>\n",
       "    </tr>\n",
       "    <tr>\n",
       "      <th>2</th>\n",
       "      <td>\"achatemeow-selection-chest-3\"</td>\n",
       "      <td>2022-05-05 18:00:00</td>\n",
       "      <td>2875.00</td>\n",
       "      <td>2875.00</td>\n",
       "      <td>2875.00</td>\n",
       "      <td>2875.00</td>\n",
       "    </tr>\n",
       "    <tr>\n",
       "      <th>3</th>\n",
       "      <td>\"achatemeow-selection-chest-3\"</td>\n",
       "      <td>2022-05-05 19:00:00</td>\n",
       "      <td>2875.00</td>\n",
       "      <td>2874.67</td>\n",
       "      <td>2875.00</td>\n",
       "      <td>2874.67</td>\n",
       "    </tr>\n",
       "    <tr>\n",
       "      <th>4</th>\n",
       "      <td>\"achatemeow-selection-chest-3\"</td>\n",
       "      <td>2022-05-05 20:00:00</td>\n",
       "      <td>2874.67</td>\n",
       "      <td>2874.33</td>\n",
       "      <td>2874.67</td>\n",
       "      <td>2874.33</td>\n",
       "    </tr>\n",
       "    <tr>\n",
       "      <th>5</th>\n",
       "      <td>\"achatemeow-selection-chest-3\"</td>\n",
       "      <td>2022-05-05 21:00:00</td>\n",
       "      <td>2874.33</td>\n",
       "      <td>2874.00</td>\n",
       "      <td>2874.33</td>\n",
       "      <td>2874.00</td>\n",
       "    </tr>\n",
       "    <tr>\n",
       "      <th>...</th>\n",
       "      <td>...</td>\n",
       "      <td>...</td>\n",
       "      <td>...</td>\n",
       "      <td>...</td>\n",
       "      <td>...</td>\n",
       "      <td>...</td>\n",
       "    </tr>\n",
       "    <tr>\n",
       "      <th>7552</th>\n",
       "      <td>\"achatemeow-selection-chest-3\"</td>\n",
       "      <td>2023-03-16 08:00:00</td>\n",
       "      <td>15097.78</td>\n",
       "      <td>15048.34</td>\n",
       "      <td>15097.78</td>\n",
       "      <td>15048.34</td>\n",
       "    </tr>\n",
       "    <tr>\n",
       "      <th>7553</th>\n",
       "      <td>\"achatemeow-selection-chest-3\"</td>\n",
       "      <td>2023-03-16 09:00:00</td>\n",
       "      <td>15048.34</td>\n",
       "      <td>14998.89</td>\n",
       "      <td>15048.34</td>\n",
       "      <td>14998.89</td>\n",
       "    </tr>\n",
       "    <tr>\n",
       "      <th>7554</th>\n",
       "      <td>\"achatemeow-selection-chest-3\"</td>\n",
       "      <td>2023-03-16 10:00:00</td>\n",
       "      <td>14998.89</td>\n",
       "      <td>14949.45</td>\n",
       "      <td>14998.89</td>\n",
       "      <td>14949.45</td>\n",
       "    </tr>\n",
       "    <tr>\n",
       "      <th>7555</th>\n",
       "      <td>\"achatemeow-selection-chest-3\"</td>\n",
       "      <td>2023-03-16 11:00:00</td>\n",
       "      <td>14949.45</td>\n",
       "      <td>14900.00</td>\n",
       "      <td>14949.45</td>\n",
       "      <td>14900.00</td>\n",
       "    </tr>\n",
       "    <tr>\n",
       "      <th>7556</th>\n",
       "      <td>\"achatemeow-selection-chest-3\"</td>\n",
       "      <td>2023-03-16 12:00:00</td>\n",
       "      <td>14900.00</td>\n",
       "      <td>14900.00</td>\n",
       "      <td>14900.00</td>\n",
       "      <td>14900.00</td>\n",
       "    </tr>\n",
       "  </tbody>\n",
       "</table>\n",
       "<p>7556 rows × 6 columns</p>\n",
       "</div>"
      ],
      "text/plain": [
       "                                  id           timestamp      open     close  \\\n",
       "1     \"achatemeow-selection-chest-3\" 2022-05-05 17:00:00   2880.00   2880.00   \n",
       "2     \"achatemeow-selection-chest-3\" 2022-05-05 18:00:00   2875.00   2875.00   \n",
       "3     \"achatemeow-selection-chest-3\" 2022-05-05 19:00:00   2875.00   2874.67   \n",
       "4     \"achatemeow-selection-chest-3\" 2022-05-05 20:00:00   2874.67   2874.33   \n",
       "5     \"achatemeow-selection-chest-3\" 2022-05-05 21:00:00   2874.33   2874.00   \n",
       "...                              ...                 ...       ...       ...   \n",
       "7552  \"achatemeow-selection-chest-3\" 2023-03-16 08:00:00  15097.78  15048.34   \n",
       "7553  \"achatemeow-selection-chest-3\" 2023-03-16 09:00:00  15048.34  14998.89   \n",
       "7554  \"achatemeow-selection-chest-3\" 2023-03-16 10:00:00  14998.89  14949.45   \n",
       "7555  \"achatemeow-selection-chest-3\" 2023-03-16 11:00:00  14949.45  14900.00   \n",
       "7556  \"achatemeow-selection-chest-3\" 2023-03-16 12:00:00  14900.00  14900.00   \n",
       "\n",
       "          high       low  \n",
       "1      2880.00   2880.00  \n",
       "2      2875.00   2875.00  \n",
       "3      2875.00   2874.67  \n",
       "4      2874.67   2874.33  \n",
       "5      2874.33   2874.00  \n",
       "...        ...       ...  \n",
       "7552  15097.78  15048.34  \n",
       "7553  15048.34  14998.89  \n",
       "7554  14998.89  14949.45  \n",
       "7555  14949.45  14900.00  \n",
       "7556  14900.00  14900.00  \n",
       "\n",
       "[7556 rows x 6 columns]"
      ]
     },
     "execution_count": 31,
     "metadata": {},
     "output_type": "execute_result"
    }
   ],
   "source": [
    "one_item = '\"achatemeow-selection-chest-3\"'\n",
    "df[df['id']==one_item]"
   ]
  },
  {
   "cell_type": "code",
   "execution_count": 32,
   "id": "5fefbf64-35d0-474f-a12e-9f2dddc7553f",
   "metadata": {},
   "outputs": [
    {
     "name": "stderr",
     "output_type": "stream",
     "text": [
      "C:\\Users\\saber\\AppData\\Local\\Temp\\ipykernel_19220\\4074473352.py:8: SettingWithCopyWarning: \n",
      "A value is trying to be set on a copy of a slice from a DataFrame\n",
      "\n",
      "See the caveats in the documentation: https://pandas.pydata.org/pandas-docs/stable/user_guide/indexing.html#returning-a-view-versus-a-copy\n",
      "  recent_one_item.drop('timestamp',axis = 1, inplace= True)\n"
     ]
    }
   ],
   "source": [
    "one_item_parse = df[df['id']==one_item]\n",
    "# get the last two months of data.\n",
    "recent_one_item = one_item_parse[one_item_parse.timestamp > datetime.now() - relativedelta(months=1)]\n",
    "\n",
    "# set timestamp to be the axis\n",
    "recent_one_item.index = recent_one_item.timestamp\n",
    "recent_one_item.sort_index(inplace=True)\n",
    "recent_one_item.drop('timestamp',axis = 1, inplace= True)\n",
    "\n",
    "# remove outliers\n",
    "from scipy import stats\n",
    "recent_one_item = recent_one_item[(np.abs(stats.zscore(recent_one_item.close)) < 2.65)]\n",
    "recent_one_item = recent_one_item[stats.zscore(recent_one_item.close) > -1]"
   ]
  },
  {
   "cell_type": "code",
   "execution_count": 33,
   "id": "8f1fd99a-09fc-4f51-be44-619893699b70",
   "metadata": {},
   "outputs": [
    {
     "data": {
      "text/html": [
       "<div>\n",
       "<style scoped>\n",
       "    .dataframe tbody tr th:only-of-type {\n",
       "        vertical-align: middle;\n",
       "    }\n",
       "\n",
       "    .dataframe tbody tr th {\n",
       "        vertical-align: top;\n",
       "    }\n",
       "\n",
       "    .dataframe thead th {\n",
       "        text-align: right;\n",
       "    }\n",
       "</style>\n",
       "<table border=\"1\" class=\"dataframe\">\n",
       "  <thead>\n",
       "    <tr style=\"text-align: right;\">\n",
       "      <th></th>\n",
       "      <th>id</th>\n",
       "      <th>open</th>\n",
       "      <th>close</th>\n",
       "      <th>high</th>\n",
       "      <th>low</th>\n",
       "    </tr>\n",
       "    <tr>\n",
       "      <th>timestamp</th>\n",
       "      <th></th>\n",
       "      <th></th>\n",
       "      <th></th>\n",
       "      <th></th>\n",
       "      <th></th>\n",
       "    </tr>\n",
       "  </thead>\n",
       "  <tbody>\n",
       "    <tr>\n",
       "      <th>2023-02-17 04:00:00</th>\n",
       "      <td>\"achatemeow-selection-chest-3\"</td>\n",
       "      <td>16420.71</td>\n",
       "      <td>16389.90</td>\n",
       "      <td>16420.71</td>\n",
       "      <td>16389.90</td>\n",
       "    </tr>\n",
       "    <tr>\n",
       "      <th>2023-02-17 05:00:00</th>\n",
       "      <td>\"achatemeow-selection-chest-3\"</td>\n",
       "      <td>16389.90</td>\n",
       "      <td>16359.10</td>\n",
       "      <td>16389.90</td>\n",
       "      <td>16359.10</td>\n",
       "    </tr>\n",
       "    <tr>\n",
       "      <th>2023-02-17 06:00:00</th>\n",
       "      <td>\"achatemeow-selection-chest-3\"</td>\n",
       "      <td>16359.10</td>\n",
       "      <td>16328.29</td>\n",
       "      <td>16359.10</td>\n",
       "      <td>16328.29</td>\n",
       "    </tr>\n",
       "    <tr>\n",
       "      <th>2023-02-17 07:00:00</th>\n",
       "      <td>\"achatemeow-selection-chest-3\"</td>\n",
       "      <td>16328.29</td>\n",
       "      <td>16297.48</td>\n",
       "      <td>16328.29</td>\n",
       "      <td>16297.48</td>\n",
       "    </tr>\n",
       "    <tr>\n",
       "      <th>2023-02-17 08:00:00</th>\n",
       "      <td>\"achatemeow-selection-chest-3\"</td>\n",
       "      <td>16297.48</td>\n",
       "      <td>16266.67</td>\n",
       "      <td>16297.48</td>\n",
       "      <td>16266.67</td>\n",
       "    </tr>\n",
       "    <tr>\n",
       "      <th>...</th>\n",
       "      <td>...</td>\n",
       "      <td>...</td>\n",
       "      <td>...</td>\n",
       "      <td>...</td>\n",
       "      <td>...</td>\n",
       "    </tr>\n",
       "    <tr>\n",
       "      <th>2023-03-16 08:00:00</th>\n",
       "      <td>\"achatemeow-selection-chest-3\"</td>\n",
       "      <td>15097.78</td>\n",
       "      <td>15048.34</td>\n",
       "      <td>15097.78</td>\n",
       "      <td>15048.34</td>\n",
       "    </tr>\n",
       "    <tr>\n",
       "      <th>2023-03-16 09:00:00</th>\n",
       "      <td>\"achatemeow-selection-chest-3\"</td>\n",
       "      <td>15048.34</td>\n",
       "      <td>14998.89</td>\n",
       "      <td>15048.34</td>\n",
       "      <td>14998.89</td>\n",
       "    </tr>\n",
       "    <tr>\n",
       "      <th>2023-03-16 10:00:00</th>\n",
       "      <td>\"achatemeow-selection-chest-3\"</td>\n",
       "      <td>14998.89</td>\n",
       "      <td>14949.45</td>\n",
       "      <td>14998.89</td>\n",
       "      <td>14949.45</td>\n",
       "    </tr>\n",
       "    <tr>\n",
       "      <th>2023-03-16 11:00:00</th>\n",
       "      <td>\"achatemeow-selection-chest-3\"</td>\n",
       "      <td>14949.45</td>\n",
       "      <td>14900.00</td>\n",
       "      <td>14949.45</td>\n",
       "      <td>14900.00</td>\n",
       "    </tr>\n",
       "    <tr>\n",
       "      <th>2023-03-16 12:00:00</th>\n",
       "      <td>\"achatemeow-selection-chest-3\"</td>\n",
       "      <td>14900.00</td>\n",
       "      <td>14900.00</td>\n",
       "      <td>14900.00</td>\n",
       "      <td>14900.00</td>\n",
       "    </tr>\n",
       "  </tbody>\n",
       "</table>\n",
       "<p>657 rows × 5 columns</p>\n",
       "</div>"
      ],
      "text/plain": [
       "                                                 id      open     close  \\\n",
       "timestamp                                                                 \n",
       "2023-02-17 04:00:00  \"achatemeow-selection-chest-3\"  16420.71  16389.90   \n",
       "2023-02-17 05:00:00  \"achatemeow-selection-chest-3\"  16389.90  16359.10   \n",
       "2023-02-17 06:00:00  \"achatemeow-selection-chest-3\"  16359.10  16328.29   \n",
       "2023-02-17 07:00:00  \"achatemeow-selection-chest-3\"  16328.29  16297.48   \n",
       "2023-02-17 08:00:00  \"achatemeow-selection-chest-3\"  16297.48  16266.67   \n",
       "...                                             ...       ...       ...   \n",
       "2023-03-16 08:00:00  \"achatemeow-selection-chest-3\"  15097.78  15048.34   \n",
       "2023-03-16 09:00:00  \"achatemeow-selection-chest-3\"  15048.34  14998.89   \n",
       "2023-03-16 10:00:00  \"achatemeow-selection-chest-3\"  14998.89  14949.45   \n",
       "2023-03-16 11:00:00  \"achatemeow-selection-chest-3\"  14949.45  14900.00   \n",
       "2023-03-16 12:00:00  \"achatemeow-selection-chest-3\"  14900.00  14900.00   \n",
       "\n",
       "                         high       low  \n",
       "timestamp                                \n",
       "2023-02-17 04:00:00  16420.71  16389.90  \n",
       "2023-02-17 05:00:00  16389.90  16359.10  \n",
       "2023-02-17 06:00:00  16359.10  16328.29  \n",
       "2023-02-17 07:00:00  16328.29  16297.48  \n",
       "2023-02-17 08:00:00  16297.48  16266.67  \n",
       "...                       ...       ...  \n",
       "2023-03-16 08:00:00  15097.78  15048.34  \n",
       "2023-03-16 09:00:00  15048.34  14998.89  \n",
       "2023-03-16 10:00:00  14998.89  14949.45  \n",
       "2023-03-16 11:00:00  14949.45  14900.00  \n",
       "2023-03-16 12:00:00  14900.00  14900.00  \n",
       "\n",
       "[657 rows x 5 columns]"
      ]
     },
     "execution_count": 33,
     "metadata": {},
     "output_type": "execute_result"
    }
   ],
   "source": [
    "recent_one_item"
   ]
  },
  {
   "cell_type": "code",
   "execution_count": 34,
   "id": "137de41e-df8d-4808-8bb2-2e87937c2662",
   "metadata": {},
   "outputs": [],
   "source": [
    "sma = recent_one_item[recent_one_item.close < 730.00]"
   ]
  },
  {
   "cell_type": "code",
   "execution_count": 35,
   "id": "254ec06b-f1e5-4c13-a2b6-fcfca8b46880",
   "metadata": {},
   "outputs": [],
   "source": [
    "sma = sma[['close']]\n",
    "# sma.plot(figsize=(15,8))\n",
    "window = 5\n",
    "sma = sma.rolling(window=window).median()[window-1:]#.pct_change()[window:]"
   ]
  },
  {
   "cell_type": "code",
   "execution_count": 36,
   "id": "0c60098b-a353-4e1f-a625-45287c7ff8ba",
   "metadata": {},
   "outputs": [
    {
     "data": {
      "text/plain": [
       "<AxesSubplot:xlabel='timestamp'>"
      ]
     },
     "execution_count": 36,
     "metadata": {},
     "output_type": "execute_result"
    },
    {
     "data": {
      "image/png": "[encoded data removed]",
      "text/plain": [
       "<Figure size 720x432 with 1 Axes>"
      ]
     },
     "metadata": {
      "needs_background": "light"
     },
     "output_type": "display_data"
    }
   ],
   "source": [
    "sma.plot(figsize=(10,6),lw=2)"
   ]
  },
  {
   "cell_type": "code",
   "execution_count": 37,
   "id": "4ef596a3-e19b-4743-a0a5-c272eca83f28",
   "metadata": {},
   "outputs": [
    {
     "data": {
      "text/html": [
       "<div>\n",
       "<style scoped>\n",
       "    .dataframe tbody tr th:only-of-type {\n",
       "        vertical-align: middle;\n",
       "    }\n",
       "\n",
       "    .dataframe tbody tr th {\n",
       "        vertical-align: top;\n",
       "    }\n",
       "\n",
       "    .dataframe thead th {\n",
       "        text-align: right;\n",
       "    }\n",
       "</style>\n",
       "<table border=\"1\" class=\"dataframe\">\n",
       "  <thead>\n",
       "    <tr style=\"text-align: right;\">\n",
       "      <th></th>\n",
       "      <th>close</th>\n",
       "    </tr>\n",
       "    <tr>\n",
       "      <th>timestamp</th>\n",
       "      <th></th>\n",
       "    </tr>\n",
       "  </thead>\n",
       "  <tbody>\n",
       "  </tbody>\n",
       "</table>\n",
       "</div>"
      ],
      "text/plain": [
       "Empty DataFrame\n",
       "Columns: [close]\n",
       "Index: []"
      ]
     },
     "execution_count": 37,
     "metadata": {},
     "output_type": "execute_result"
    }
   ],
   "source": [
    "sma"
   ]
  },
  {
   "cell_type": "code",
   "execution_count": null,
   "id": "2ee62a53-f610-41d4-861f-281b70805f55",
   "metadata": {},
   "outputs": [],
   "source": []
  },
  {
   "cell_type": "code",
   "execution_count": 38,
   "id": "a47462b7-039b-407f-9f2c-a4a079de36ee",
   "metadata": {},
   "outputs": [
    {
     "name": "stderr",
     "output_type": "stream",
     "text": [
      "C:\\Users\\saber\\AppData\\Local\\Temp\\ipykernel_19220\\3306480264.py:4: SettingWithCopyWarning: \n",
      "A value is trying to be set on a copy of a slice from a DataFrame.\n",
      "Try using .loc[row_indexer,col_indexer] = value instead\n",
      "\n",
      "See the caveats in the documentation: https://pandas.pydata.org/pandas-docs/stable/user_guide/indexing.html#returning-a-view-versus-a-copy\n",
      "  day_of_the_week.timestamp = day_of_the_week.timestamp.dt.day_name()\n"
     ]
    }
   ],
   "source": [
    "# last n days of record peering\n",
    "records_to_grab = 60*24\n",
    "day_of_the_week = one_item_parse[-records_to_grab:]\n",
    "day_of_the_week.timestamp = day_of_the_week.timestamp.dt.day_name()"
   ]
  },
  {
   "cell_type": "code",
   "execution_count": 39,
   "id": "cf3fbe1a-4cbd-4da0-b512-4e8796f0ff39",
   "metadata": {},
   "outputs": [
    {
     "data": {
      "text/plain": [
       "<AxesSubplot:xlabel='timestamp'>"
      ]
     },
     "execution_count": 39,
     "metadata": {},
     "output_type": "execute_result"
    },
    {
     "data": {
      "image/png": "[encoded data removed]",
      "text/plain": [
       "<Figure size 864x432 with 1 Axes>"
      ]
     },
     "metadata": {
      "needs_background": "light"
     },
     "output_type": "display_data"
    }
   ],
   "source": [
    "week_order = ['Tuesday','Wednesday', 'Thursday', 'Friday', 'Saturday', 'Sunday','Monday', 'Tuesday']\n",
    "weekly_change = day_of_the_week.groupby(['timestamp']).mean().reindex(week_order).pct_change()\n",
    "weekly_change.close.plot(figsize=(12,6))"
   ]
  },
  {
   "cell_type": "code",
   "execution_count": null,
   "id": "79f4c8b3-3940-42c8-92a5-523e82eb17a2",
   "metadata": {},
   "outputs": [],
   "source": []
  },
  {
   "cell_type": "markdown",
   "id": "85853cea-3058-4614-9983-8d1e61dd8140",
   "metadata": {},
   "source": [
    "### ar"
   ]
  },
  {
   "cell_type": "code",
   "execution_count": 40,
   "id": "73dfb211-7e6d-4b5a-887c-edbd23877714",
   "metadata": {},
   "outputs": [],
   "source": [
    "from statsmodels.tsa.stattools import adfuller\n",
    "\n",
    "df_stattest = adfuller(one_item_parse.close, autolag='AIC')"
   ]
  },
  {
   "cell_type": "code",
   "execution_count": 41,
   "id": "e1aa05d5-2f65-4e0e-829f-f5a68571b85e",
   "metadata": {},
   "outputs": [
    {
     "name": "stdout",
     "output_type": "stream",
     "text": [
      "P-value: 0.0630440725054516\n"
     ]
    }
   ],
   "source": [
    "print(f'P-value: {df_stattest[1]}')"
   ]
  },
  {
   "cell_type": "code",
   "execution_count": 42,
   "id": "e92496bd-3db9-43c4-ae01-ca8355919f0d",
   "metadata": {},
   "outputs": [
    {
     "data": {
      "image/png": "[encoded data removed]",
      "text/plain": [
       "<Figure size 720x288 with 1 Axes>"
      ]
     },
     "metadata": {
      "needs_background": "light"
     },
     "output_type": "display_data"
    }
   ],
   "source": [
    "from statsmodels.graphics.tsaplots import plot_pacf\n",
    "\n",
    "with plt.rc_context():\n",
    "    plt.rc(\"figure\", figsize=(10,4))\n",
    "    pacf = plot_pacf(one_item_parse.close,lags=45,method=\"ywm\")"
   ]
  },
  {
   "cell_type": "code",
   "execution_count": 43,
   "id": "1f39d88d-a4fe-44f4-9228-114f5e7d4902",
   "metadata": {},
   "outputs": [],
   "source": [
    "last_week = -24*45\n",
    "training_data = one_item_parse.close[:last_week]\n",
    "test_data = one_item_parse.close[last_week:]"
   ]
  },
  {
   "cell_type": "markdown",
   "id": "4c294f6c-6c41-46a7-b1c9-401da7521ac6",
   "metadata": {},
   "source": [
    "### Shard Bag Fair Values"
   ]
  },
  {
   "cell_type": "code",
   "execution_count": 44,
   "id": "f39f1ad1-be6b-4fa8-b8e5-33502dcdccc5",
   "metadata": {},
   "outputs": [],
   "source": [
    "pouch_df = df[(df['id']=='\"honor-shard-pouch-s-1\"') | (df['id']=='\"honor-shard-pouch-m-2\"') | (df['id']=='\"honor-shard-pouch-l-3\"')]"
   ]
  },
  {
   "cell_type": "code",
   "execution_count": 45,
   "id": "f3eca5c0-d129-487d-831f-6d2be3d51ead",
   "metadata": {
    "jupyter": {
     "source_hidden": true
    },
    "tags": []
   },
   "outputs": [],
   "source": [
    "def mean_spread_over_time(time):\n",
    "    # n hour rolling average to smooth the data\n",
    "    window = 12\n",
    "\n",
    "    s_df = pouch_df[pouch_df['id']== '\"honor-shard-pouch-s-1\"'][['id','timestamp','close']]\n",
    "    m_df = pouch_df[pouch_df['id']== '\"honor-shard-pouch-m-2\"'][['id','timestamp','close']]\n",
    "    l_df = pouch_df[pouch_df['id']== '\"honor-shard-pouch-l-3\"'][['id','timestamp','close']]\n",
    "\n",
    "    #grabbing the last n days\n",
    "    records_to_grab = time*24 + window -1\n",
    "    s_df = s_df[-records_to_grab:]\n",
    "    m_df = m_df[-records_to_grab:]\n",
    "    l_df = l_df[-records_to_grab:]\n",
    "\n",
    "    s_df.reset_index(inplace=True)\n",
    "    m_df.reset_index(inplace=True)\n",
    "    l_df.reset_index(inplace=True)\n",
    "\n",
    "    s_df['close'] = s_df.close.rolling(window=window).median()\n",
    "    s_df = s_df[window-1:]\n",
    "    m_df['close'] = m_df.close.rolling(window=window).median()\n",
    "    m_df = m_df[window-1:]\n",
    "    l_df['close'] = l_df.close.rolling(window=window).median()\n",
    "    l_df = l_df[window-1:]\n",
    "\n",
    "    s_df.close = s_df.close/500\n",
    "    m_df.close = m_df.close/1000\n",
    "    l_df.close = l_df.close/1500\n",
    "\n",
    "    s_df['pct_from_lg'] = percentage_difference(s_df.close,l_df.close)\n",
    "\n",
    "    average_spread = s_df.describe().iloc[1,2]\n",
    "    return(average_spread)"
   ]
  },
  {
   "cell_type": "code",
   "execution_count": 46,
   "id": "2607a57e-e668-4bc9-9419-8f82df16d30d",
   "metadata": {},
   "outputs": [],
   "source": [
    "# n hour rolling average to smooth the data\n",
    "window = 24\n",
    "\n",
    "s_df = pouch_df[pouch_df['id']== '\"honor-shard-pouch-s-1\"'][['id','timestamp','close']]\n",
    "m_df = pouch_df[pouch_df['id']== '\"honor-shard-pouch-m-2\"'][['id','timestamp','close']]\n",
    "l_df = pouch_df[pouch_df['id']== '\"honor-shard-pouch-l-3\"'][['id','timestamp','close']]\n",
    "\n",
    "#grabbing the last n days\n",
    "records_to_grab = 180*24 + window -1\n",
    "s_df = s_df[-records_to_grab:]\n",
    "m_df = m_df[-records_to_grab:]\n",
    "l_df = l_df[-records_to_grab:]\n",
    "\n",
    "s_df.reset_index(inplace=True)\n",
    "m_df.reset_index(inplace=True)\n",
    "l_df.reset_index(inplace=True)\n",
    "\n",
    "s_df['close'] = s_df.close.rolling(window=window).median()\n",
    "s_df = s_df[window-1:]\n",
    "m_df['close'] = m_df.close.rolling(window=window).median()\n",
    "m_df = m_df[window-1:]\n",
    "l_df['close'] = l_df.close.rolling(window=window).median()\n",
    "l_df = l_df[window-1:]"
   ]
  },
  {
   "cell_type": "markdown",
   "id": "dfc3a357-f4d7-4d15-9a6e-6e4403cc7796",
   "metadata": {},
   "source": [
    "##### adjust the price to the price per shard"
   ]
  },
  {
   "cell_type": "code",
   "execution_count": 47,
   "id": "de8956ac-085e-4763-aa04-6908ff8ae45b",
   "metadata": {},
   "outputs": [],
   "source": [
    "s_df.close = s_df.close/500\n",
    "m_df.close = m_df.close/1000\n",
    "l_df.close = l_df.close/1500"
   ]
  },
  {
   "cell_type": "code",
   "execution_count": null,
   "id": "c7d9a092-33c3-43e9-8098-6829cddd5fe8",
   "metadata": {},
   "outputs": [],
   "source": []
  },
  {
   "cell_type": "code",
   "execution_count": 48,
   "id": "92410ff0-51ad-47ad-a427-1799d71c97ca",
   "metadata": {},
   "outputs": [
    {
     "ename": "IndexError",
     "evalue": "single positional indexer is out-of-bounds",
     "output_type": "error",
     "traceback": [
      "\u001b[1;31m---------------------------------------------------------------------------\u001b[0m",
      "\u001b[1;31mIndexError\u001b[0m                                Traceback (most recent call last)",
      "Input \u001b[1;32mIn [48]\u001b[0m, in \u001b[0;36m<cell line: 5>\u001b[1;34m()\u001b[0m\n\u001b[0;32m      2\u001b[0m \u001b[38;5;28;01mfrom\u001b[39;00m \u001b[38;5;21;01mmatplotlib\u001b[39;00m\u001b[38;5;21;01m.\u001b[39;00m\u001b[38;5;21;01mpyplot\u001b[39;00m \u001b[38;5;28;01mimport\u001b[39;00m figure\n\u001b[0;32m      3\u001b[0m figure(figsize\u001b[38;5;241m=\u001b[39m(\u001b[38;5;241m12\u001b[39m, \u001b[38;5;241m6\u001b[39m), dpi\u001b[38;5;241m=\u001b[39m\u001b[38;5;241m200\u001b[39m)\n\u001b[1;32m----> 5\u001b[0m s_end \u001b[38;5;241m=\u001b[39m \u001b[43ms_df\u001b[49m\u001b[38;5;241;43m.\u001b[39;49m\u001b[43mclose\u001b[49m\u001b[38;5;241;43m.\u001b[39;49m\u001b[43miloc\u001b[49m\u001b[43m[\u001b[49m\u001b[38;5;241;43m-\u001b[39;49m\u001b[38;5;241;43m1\u001b[39;49m\u001b[43m]\u001b[49m\n\u001b[0;32m      6\u001b[0m m_end \u001b[38;5;241m=\u001b[39m m_df\u001b[38;5;241m.\u001b[39mclose\u001b[38;5;241m.\u001b[39miloc[\u001b[38;5;241m-\u001b[39m\u001b[38;5;241m1\u001b[39m]\n\u001b[0;32m      7\u001b[0m l_end \u001b[38;5;241m=\u001b[39m l_df\u001b[38;5;241m.\u001b[39mclose\u001b[38;5;241m.\u001b[39miloc[\u001b[38;5;241m-\u001b[39m\u001b[38;5;241m1\u001b[39m]\n",
      "File \u001b[1;32m~\\anaconda3\\lib\\site-packages\\pandas\\core\\indexing.py:967\u001b[0m, in \u001b[0;36m_LocationIndexer.__getitem__\u001b[1;34m(self, key)\u001b[0m\n\u001b[0;32m    964\u001b[0m axis \u001b[38;5;241m=\u001b[39m \u001b[38;5;28mself\u001b[39m\u001b[38;5;241m.\u001b[39maxis \u001b[38;5;129;01mor\u001b[39;00m \u001b[38;5;241m0\u001b[39m\n\u001b[0;32m    966\u001b[0m maybe_callable \u001b[38;5;241m=\u001b[39m com\u001b[38;5;241m.\u001b[39mapply_if_callable(key, \u001b[38;5;28mself\u001b[39m\u001b[38;5;241m.\u001b[39mobj)\n\u001b[1;32m--> 967\u001b[0m \u001b[38;5;28;01mreturn\u001b[39;00m \u001b[38;5;28;43mself\u001b[39;49m\u001b[38;5;241;43m.\u001b[39;49m\u001b[43m_getitem_axis\u001b[49m\u001b[43m(\u001b[49m\u001b[43mmaybe_callable\u001b[49m\u001b[43m,\u001b[49m\u001b[43m \u001b[49m\u001b[43maxis\u001b[49m\u001b[38;5;241;43m=\u001b[39;49m\u001b[43maxis\u001b[49m\u001b[43m)\u001b[49m\n",
      "File \u001b[1;32m~\\anaconda3\\lib\\site-packages\\pandas\\core\\indexing.py:1520\u001b[0m, in \u001b[0;36m_iLocIndexer._getitem_axis\u001b[1;34m(self, key, axis)\u001b[0m\n\u001b[0;32m   1517\u001b[0m     \u001b[38;5;28;01mraise\u001b[39;00m \u001b[38;5;167;01mTypeError\u001b[39;00m(\u001b[38;5;124m\"\u001b[39m\u001b[38;5;124mCannot index by location index with a non-integer key\u001b[39m\u001b[38;5;124m\"\u001b[39m)\n\u001b[0;32m   1519\u001b[0m \u001b[38;5;66;03m# validate the location\u001b[39;00m\n\u001b[1;32m-> 1520\u001b[0m \u001b[38;5;28;43mself\u001b[39;49m\u001b[38;5;241;43m.\u001b[39;49m\u001b[43m_validate_integer\u001b[49m\u001b[43m(\u001b[49m\u001b[43mkey\u001b[49m\u001b[43m,\u001b[49m\u001b[43m \u001b[49m\u001b[43maxis\u001b[49m\u001b[43m)\u001b[49m\n\u001b[0;32m   1522\u001b[0m \u001b[38;5;28;01mreturn\u001b[39;00m \u001b[38;5;28mself\u001b[39m\u001b[38;5;241m.\u001b[39mobj\u001b[38;5;241m.\u001b[39m_ixs(key, axis\u001b[38;5;241m=\u001b[39maxis)\n",
      "File \u001b[1;32m~\\anaconda3\\lib\\site-packages\\pandas\\core\\indexing.py:1452\u001b[0m, in \u001b[0;36m_iLocIndexer._validate_integer\u001b[1;34m(self, key, axis)\u001b[0m\n\u001b[0;32m   1450\u001b[0m len_axis \u001b[38;5;241m=\u001b[39m \u001b[38;5;28mlen\u001b[39m(\u001b[38;5;28mself\u001b[39m\u001b[38;5;241m.\u001b[39mobj\u001b[38;5;241m.\u001b[39m_get_axis(axis))\n\u001b[0;32m   1451\u001b[0m \u001b[38;5;28;01mif\u001b[39;00m key \u001b[38;5;241m>\u001b[39m\u001b[38;5;241m=\u001b[39m len_axis \u001b[38;5;129;01mor\u001b[39;00m key \u001b[38;5;241m<\u001b[39m \u001b[38;5;241m-\u001b[39mlen_axis:\n\u001b[1;32m-> 1452\u001b[0m     \u001b[38;5;28;01mraise\u001b[39;00m \u001b[38;5;167;01mIndexError\u001b[39;00m(\u001b[38;5;124m\"\u001b[39m\u001b[38;5;124msingle positional indexer is out-of-bounds\u001b[39m\u001b[38;5;124m\"\u001b[39m)\n",
      "\u001b[1;31mIndexError\u001b[0m: single positional indexer is out-of-bounds"
     ]
    },
    {
     "data": {
      "text/plain": [
       "<Figure size 2400x1200 with 0 Axes>"
      ]
     },
     "metadata": {},
     "output_type": "display_data"
    }
   ],
   "source": [
    "# Data\n",
    "from matplotlib.pyplot import figure\n",
    "figure(figsize=(12, 6), dpi=200)\n",
    "\n",
    "s_end = s_df.close.iloc[-1]\n",
    "m_end = m_df.close.iloc[-1]\n",
    "l_end = l_df.close.iloc[-1]\n",
    "\n",
    "\n",
    "# multiple line plots\n",
    "plt.plot('timestamp', 'close', data=s_df, color='green', linewidth=2, label=\"Small\")\n",
    "plt.plot('timestamp', 'close', data=m_df, color='dodgerblue', linewidth=2, label=\"Medium\")\n",
    "plt.plot('timestamp', 'close', data=l_df, color='purple', linewidth=2, label=\"Large\")\n",
    "\n",
    "# add ending values\n",
    "for var in (s_end,m_end,l_end):\n",
    "    plt.annotate('%0.2f' % var.max(), xy=(1, var.max()), xytext=(8, 0), \n",
    "                 xycoords=('axes fraction', 'data'), textcoords='offset points')\n",
    "\n",
    "min_time = l_df.timestamp.iloc[0]\n",
    "max_time = l_df.timestamp.iloc[-1]\n",
    "plt.xlim(min_time,max_time)\n",
    "# show legend\n",
    "plt.legend()\n",
    "plt.ylabel('Gold per Shard')\n",
    "# show graph\n",
    "plt.show()"
   ]
  },
  {
   "cell_type": "code",
   "execution_count": null,
   "id": "2513c2c4-0582-4be3-9f09-373eaa608c85",
   "metadata": {},
   "outputs": [],
   "source": [
    "def percentage_change(col1,col2):\n",
    "    return ((col2.sub(col1)).div(col1)).mul(100)\n",
    "\n",
    "def percentage_difference(col1,col2):\n",
    "    return ((abs(col1.sub(col2))).div(col1.add(col2)/2).mul(100))\n",
    "\n",
    "s_df['pct_from_lg'] = percentage_difference(s_df.close,l_df.close)\n"
   ]
  },
  {
   "cell_type": "code",
   "execution_count": null,
   "id": "b24e79ae-1d64-429e-901b-c7f501296224",
   "metadata": {},
   "outputs": [],
   "source": [
    "s_df.tail(1)"
   ]
  },
  {
   "cell_type": "code",
   "execution_count": null,
   "id": "74e4334c-b89e-491d-96fc-0a678f85c0da",
   "metadata": {},
   "outputs": [],
   "source": [
    "l_df.tail()"
   ]
  },
  {
   "cell_type": "code",
   "execution_count": 49,
   "id": "967f9406-699e-4f40-b328-70a00506f3d7",
   "metadata": {},
   "outputs": [
    {
     "ename": "ValueError",
     "evalue": "Unrecognized character t in format string",
     "output_type": "error",
     "traceback": [
      "\u001b[1;31m---------------------------------------------------------------------------\u001b[0m",
      "\u001b[1;31mValueError\u001b[0m                                Traceback (most recent call last)",
      "Input \u001b[1;32mIn [49]\u001b[0m, in \u001b[0;36m<cell line: 6>\u001b[1;34m()\u001b[0m\n\u001b[0;32m      3\u001b[0m figure(figsize\u001b[38;5;241m=\u001b[39m(\u001b[38;5;241m12\u001b[39m, \u001b[38;5;241m6\u001b[39m), dpi\u001b[38;5;241m=\u001b[39m\u001b[38;5;241m200\u001b[39m)\n\u001b[0;32m      5\u001b[0m \u001b[38;5;66;03m# multiple line plots\u001b[39;00m\n\u001b[1;32m----> 6\u001b[0m \u001b[43mplt\u001b[49m\u001b[38;5;241;43m.\u001b[39;49m\u001b[43mplot\u001b[49m\u001b[43m(\u001b[49m\u001b[38;5;124;43m'\u001b[39;49m\u001b[38;5;124;43mtimestamp\u001b[39;49m\u001b[38;5;124;43m'\u001b[39;49m\u001b[43m,\u001b[49m\u001b[43m \u001b[49m\u001b[38;5;124;43m'\u001b[39;49m\u001b[38;5;124;43mpct_from_lg\u001b[39;49m\u001b[38;5;124;43m'\u001b[39;49m\u001b[43m,\u001b[49m\u001b[43m \u001b[49m\u001b[43mdata\u001b[49m\u001b[38;5;241;43m=\u001b[39;49m\u001b[43ms_df\u001b[49m\u001b[43m,\u001b[49m\u001b[43m \u001b[49m\u001b[43mcolor\u001b[49m\u001b[38;5;241;43m=\u001b[39;49m\u001b[38;5;124;43m'\u001b[39;49m\u001b[38;5;124;43morange\u001b[39;49m\u001b[38;5;124;43m'\u001b[39;49m\u001b[43m,\u001b[49m\u001b[43m \u001b[49m\u001b[43mlinewidth\u001b[49m\u001b[38;5;241;43m=\u001b[39;49m\u001b[38;5;241;43m2\u001b[39;49m\u001b[43m,\u001b[49m\u001b[43m \u001b[49m\u001b[43mlabel\u001b[49m\u001b[38;5;241;43m=\u001b[39;49m\u001b[38;5;124;43m\"\u001b[39;49m\u001b[38;5;124;43mSmall Large Spread\u001b[39;49m\u001b[38;5;124;43m\"\u001b[39;49m\u001b[43m)\u001b[49m\n\u001b[0;32m      8\u001b[0m \u001b[38;5;66;03m# add ending values\u001b[39;00m\n\u001b[0;32m      9\u001b[0m spread_one \u001b[38;5;241m=\u001b[39m mean_spread_over_time(\u001b[38;5;241m180\u001b[39m)\n",
      "File \u001b[1;32m~\\anaconda3\\lib\\site-packages\\matplotlib\\pyplot.py:2757\u001b[0m, in \u001b[0;36mplot\u001b[1;34m(scalex, scaley, data, *args, **kwargs)\u001b[0m\n\u001b[0;32m   2755\u001b[0m \u001b[38;5;129m@_copy_docstring_and_deprecators\u001b[39m(Axes\u001b[38;5;241m.\u001b[39mplot)\n\u001b[0;32m   2756\u001b[0m \u001b[38;5;28;01mdef\u001b[39;00m \u001b[38;5;21mplot\u001b[39m(\u001b[38;5;241m*\u001b[39margs, scalex\u001b[38;5;241m=\u001b[39m\u001b[38;5;28;01mTrue\u001b[39;00m, scaley\u001b[38;5;241m=\u001b[39m\u001b[38;5;28;01mTrue\u001b[39;00m, data\u001b[38;5;241m=\u001b[39m\u001b[38;5;28;01mNone\u001b[39;00m, \u001b[38;5;241m*\u001b[39m\u001b[38;5;241m*\u001b[39mkwargs):\n\u001b[1;32m-> 2757\u001b[0m     \u001b[38;5;28;01mreturn\u001b[39;00m gca()\u001b[38;5;241m.\u001b[39mplot(\n\u001b[0;32m   2758\u001b[0m         \u001b[38;5;241m*\u001b[39margs, scalex\u001b[38;5;241m=\u001b[39mscalex, scaley\u001b[38;5;241m=\u001b[39mscaley,\n\u001b[0;32m   2759\u001b[0m         \u001b[38;5;241m*\u001b[39m\u001b[38;5;241m*\u001b[39m({\u001b[38;5;124m\"\u001b[39m\u001b[38;5;124mdata\u001b[39m\u001b[38;5;124m\"\u001b[39m: data} \u001b[38;5;28;01mif\u001b[39;00m data \u001b[38;5;129;01mis\u001b[39;00m \u001b[38;5;129;01mnot\u001b[39;00m \u001b[38;5;28;01mNone\u001b[39;00m \u001b[38;5;28;01melse\u001b[39;00m {}), \u001b[38;5;241m*\u001b[39m\u001b[38;5;241m*\u001b[39mkwargs)\n",
      "File \u001b[1;32m~\\anaconda3\\lib\\site-packages\\matplotlib\\axes\\_axes.py:1632\u001b[0m, in \u001b[0;36mAxes.plot\u001b[1;34m(self, scalex, scaley, data, *args, **kwargs)\u001b[0m\n\u001b[0;32m   1390\u001b[0m \u001b[38;5;124;03m\"\"\"\u001b[39;00m\n\u001b[0;32m   1391\u001b[0m \u001b[38;5;124;03mPlot y versus x as lines and/or markers.\u001b[39;00m\n\u001b[0;32m   1392\u001b[0m \n\u001b[1;32m   (...)\u001b[0m\n\u001b[0;32m   1629\u001b[0m \u001b[38;5;124;03m(``'green'``) or hex strings (``'#008000'``).\u001b[39;00m\n\u001b[0;32m   1630\u001b[0m \u001b[38;5;124;03m\"\"\"\u001b[39;00m\n\u001b[0;32m   1631\u001b[0m kwargs \u001b[38;5;241m=\u001b[39m cbook\u001b[38;5;241m.\u001b[39mnormalize_kwargs(kwargs, mlines\u001b[38;5;241m.\u001b[39mLine2D)\n\u001b[1;32m-> 1632\u001b[0m lines \u001b[38;5;241m=\u001b[39m [\u001b[38;5;241m*\u001b[39m\u001b[38;5;28mself\u001b[39m\u001b[38;5;241m.\u001b[39m_get_lines(\u001b[38;5;241m*\u001b[39margs, data\u001b[38;5;241m=\u001b[39mdata, \u001b[38;5;241m*\u001b[39m\u001b[38;5;241m*\u001b[39mkwargs)]\n\u001b[0;32m   1633\u001b[0m \u001b[38;5;28;01mfor\u001b[39;00m line \u001b[38;5;129;01min\u001b[39;00m lines:\n\u001b[0;32m   1634\u001b[0m     \u001b[38;5;28mself\u001b[39m\u001b[38;5;241m.\u001b[39madd_line(line)\n",
      "File \u001b[1;32m~\\anaconda3\\lib\\site-packages\\matplotlib\\axes\\_base.py:312\u001b[0m, in \u001b[0;36m_process_plot_var_args.__call__\u001b[1;34m(self, data, *args, **kwargs)\u001b[0m\n\u001b[0;32m    310\u001b[0m     this \u001b[38;5;241m+\u001b[39m\u001b[38;5;241m=\u001b[39m args[\u001b[38;5;241m0\u001b[39m],\n\u001b[0;32m    311\u001b[0m     args \u001b[38;5;241m=\u001b[39m args[\u001b[38;5;241m1\u001b[39m:]\n\u001b[1;32m--> 312\u001b[0m \u001b[38;5;28;01myield from\u001b[39;00m \u001b[38;5;28;43mself\u001b[39;49m\u001b[38;5;241;43m.\u001b[39;49m\u001b[43m_plot_args\u001b[49m\u001b[43m(\u001b[49m\u001b[43mthis\u001b[49m\u001b[43m,\u001b[49m\u001b[43m \u001b[49m\u001b[43mkwargs\u001b[49m\u001b[43m)\u001b[49m\n",
      "File \u001b[1;32m~\\anaconda3\\lib\\site-packages\\matplotlib\\axes\\_base.py:449\u001b[0m, in \u001b[0;36m_process_plot_var_args._plot_args\u001b[1;34m(self, tup, kwargs, return_kwargs)\u001b[0m\n\u001b[0;32m    446\u001b[0m \u001b[38;5;28;01mif\u001b[39;00m \u001b[38;5;28mlen\u001b[39m(tup) \u001b[38;5;241m>\u001b[39m \u001b[38;5;241m1\u001b[39m \u001b[38;5;129;01mand\u001b[39;00m \u001b[38;5;28misinstance\u001b[39m(tup[\u001b[38;5;241m-\u001b[39m\u001b[38;5;241m1\u001b[39m], \u001b[38;5;28mstr\u001b[39m):\n\u001b[0;32m    447\u001b[0m     \u001b[38;5;66;03m# xy is tup with fmt stripped (could still be (y,) only)\u001b[39;00m\n\u001b[0;32m    448\u001b[0m     \u001b[38;5;241m*\u001b[39mxy, fmt \u001b[38;5;241m=\u001b[39m tup\n\u001b[1;32m--> 449\u001b[0m     linestyle, marker, color \u001b[38;5;241m=\u001b[39m \u001b[43m_process_plot_format\u001b[49m\u001b[43m(\u001b[49m\u001b[43mfmt\u001b[49m\u001b[43m)\u001b[49m\n\u001b[0;32m    450\u001b[0m \u001b[38;5;28;01melif\u001b[39;00m \u001b[38;5;28mlen\u001b[39m(tup) \u001b[38;5;241m==\u001b[39m \u001b[38;5;241m3\u001b[39m:\n\u001b[0;32m    451\u001b[0m     \u001b[38;5;28;01mraise\u001b[39;00m \u001b[38;5;167;01mValueError\u001b[39;00m(\u001b[38;5;124m'\u001b[39m\u001b[38;5;124mthird arg must be a format string\u001b[39m\u001b[38;5;124m'\u001b[39m)\n",
      "File \u001b[1;32m~\\anaconda3\\lib\\site-packages\\matplotlib\\axes\\_base.py:199\u001b[0m, in \u001b[0;36m_process_plot_format\u001b[1;34m(fmt)\u001b[0m\n\u001b[0;32m    197\u001b[0m         i \u001b[38;5;241m+\u001b[39m\u001b[38;5;241m=\u001b[39m \u001b[38;5;241m2\u001b[39m\n\u001b[0;32m    198\u001b[0m     \u001b[38;5;28;01melse\u001b[39;00m:\n\u001b[1;32m--> 199\u001b[0m         \u001b[38;5;28;01mraise\u001b[39;00m \u001b[38;5;167;01mValueError\u001b[39;00m(\n\u001b[0;32m    200\u001b[0m             \u001b[38;5;124m'\u001b[39m\u001b[38;5;124mUnrecognized character \u001b[39m\u001b[38;5;132;01m%c\u001b[39;00m\u001b[38;5;124m in format string\u001b[39m\u001b[38;5;124m'\u001b[39m \u001b[38;5;241m%\u001b[39m c)\n\u001b[0;32m    202\u001b[0m \u001b[38;5;28;01mif\u001b[39;00m linestyle \u001b[38;5;129;01mis\u001b[39;00m \u001b[38;5;28;01mNone\u001b[39;00m \u001b[38;5;129;01mand\u001b[39;00m marker \u001b[38;5;129;01mis\u001b[39;00m \u001b[38;5;28;01mNone\u001b[39;00m:\n\u001b[0;32m    203\u001b[0m     linestyle \u001b[38;5;241m=\u001b[39m mpl\u001b[38;5;241m.\u001b[39mrcParams[\u001b[38;5;124m'\u001b[39m\u001b[38;5;124mlines.linestyle\u001b[39m\u001b[38;5;124m'\u001b[39m]\n",
      "\u001b[1;31mValueError\u001b[0m: Unrecognized character t in format string"
     ]
    },
    {
     "data": {
      "image/png": "[encoded data removed]",
      "text/plain": [
       "<Figure size 2400x1200 with 1 Axes>"
      ]
     },
     "metadata": {
      "needs_background": "light"
     },
     "output_type": "display_data"
    }
   ],
   "source": [
    "# Data\n",
    "from matplotlib.pyplot import figure\n",
    "figure(figsize=(12, 6), dpi=200)\n",
    "\n",
    "# multiple line plots\n",
    "plt.plot('timestamp', 'pct_from_lg', data=s_df, color='orange', linewidth=2, label=\"Small Large Spread\")\n",
    "\n",
    "# add ending values\n",
    "spread_one = mean_spread_over_time(180)\n",
    "plt.axhline(y = spread_one, color = 'green', linestyle = 'dotted', label = '180 Day Average Spread')\n",
    "\n",
    "s_end = s_df.pct_from_lg.iloc[-1]\n",
    "for var in ([s_end,spread_two]):\n",
    "    plt.annotate('%0.2f' % var.max(), xy=(1, var.max()), xytext=(8, 0), \n",
    "                 xycoords=('axes fraction', 'data'), textcoords='offset points')\n",
    "\n",
    "\n",
    "min_time = s_df.timestamp.iloc[0]\n",
    "max_time = s_df.timestamp.iloc[-1]\n",
    "plt.xlim(min_time,max_time)\n",
    "\n",
    "# show legend\n",
    "plt.legend()\n",
    "plt.ylabel('% Difference')\n",
    "# show graph\n",
    "plt.show()"
   ]
  },
  {
   "cell_type": "code",
   "execution_count": null,
   "id": "4a22285c-a694-47c7-871c-724067509407",
   "metadata": {},
   "outputs": [],
   "source": [
    "s_end - spread_one"
   ]
  },
  {
   "cell_type": "markdown",
   "id": "4624c196-6ccb-4ab4-b861-2c2430526c36",
   "metadata": {},
   "source": [
    "#### mats after express events"
   ]
  },
  {
   "cell_type": "code",
   "execution_count": null,
   "id": "c348e0df-d896-450f-a513-246d3009846d",
   "metadata": {},
   "outputs": [],
   "source": [
    "dest_df = df[df['id'] == '\"crystallized-destruction-stone-0\"']\n",
    "dest_df = dest_df[(dest_df['timestamp'] > '2022-10-16 00:00:00') & (dest_df['timestamp'] < '2023-1-14 00:00:00') ]\n",
    "\n",
    "ls_df = df[df['id'] == '\"great-honor-leapstone-2\"']\n",
    "ls_df = ls_df[(ls_df['timestamp'] > '2022-10-16 00:00:00') & (ls_df['timestamp'] < '2023-1-14 00:00:00') ]\n",
    "\n",
    "sb_s_df = df[df['id'] == '\"honor-shard-pouch-s-1\"'][['id','timestamp','close']]\n",
    "sb_s_df = sb_s_df[(sb_s_df['timestamp'] > '2022-10-16 00:00:00') & (sb_s_df['timestamp'] < '2023-1-14 00:00:00') ]\n",
    "\n",
    "sb_l_df = df[df['id'] == '\"honor-shard-pouch-l-3\"'][['id','timestamp','close']]\n",
    "sb_l_df = sb_l_df[(sb_l_df['timestamp'] > '2022-10-16 00:00:00') & (sb_l_df['timestamp'] < '2023-1-14 00:00:00') ]"
   ]
  },
  {
   "cell_type": "code",
   "execution_count": null,
   "id": "95e4c726-7e60-44dd-a8fa-c0f736e0023c",
   "metadata": {},
   "outputs": [],
   "source": [
    "# remove outliers\n",
    "# from scipy import stats\n",
    "ls_df = ls_df[ls_df.close < 1000]\n",
    "ls_df = ls_df[(np.abs(stats.zscore(ls_df.close)) < 3)]\n",
    "ls_df = ls_df[stats.zscore(ls_df.close) > -2]\n",
    "\n",
    "dest_df = dest_df[(np.abs(stats.zscore(dest_df.close)) < 2.3)]\n",
    "\n",
    "sb_l_df = sb_l_df[sb_l_df.close < 1000]"
   ]
  },
  {
   "cell_type": "code",
   "execution_count": null,
   "id": "4d161d2d-3a9d-44b1-b85e-a5232de40db8",
   "metadata": {},
   "outputs": [],
   "source": [
    "window = 24\n",
    "\n",
    "sb_s_df['close_pct'] = sb_s_df.close.pct_change(window)\n",
    "sb_s_df = sb_s_df[window-1:]\n",
    "\n",
    "sb_l_df['close_pct'] = sb_l_df.close.pct_change(window)\n",
    "sb_l_df = sb_l_df[window-1:]\n",
    "\n",
    "ls_df['close_pct'] = ls_df.close.pct_change(window)\n",
    "ls_df = ls_df[window-1:]\n",
    "\n",
    "dest_df['close_pct'] = dest_df.close.pct_change(window)\n",
    "dest_df = dest_df[window-1:]"
   ]
  },
  {
   "cell_type": "code",
   "execution_count": null,
   "id": "3902cd8b-bd0d-4b5d-99e8-9e5fb297e51e",
   "metadata": {},
   "outputs": [],
   "source": [
    "# Data\n",
    "from matplotlib.pyplot import figure\n",
    "figure(figsize=(12, 6), dpi=200)\n",
    "\n",
    "# multiple line plots\n",
    "plt.plot('timestamp', 'close_pct', data=dest_df, color='red', linewidth=2, label=\"Destruction Stone\")\n",
    "plt.plot('timestamp', 'close_pct', data=ls_df, color='dodgerblue', linewidth=2, label=\"Leapstone\")\n",
    "plt.plot('timestamp', 'close_pct', data=sb_l_df, color='orange', linewidth=2, label=\"Large Shard Bag\")\n",
    "plt.plot('timestamp', 'close_pct', data=sb_s_df, color='purple', linewidth=2, label=\"Small Shard Bag\")\n",
    "\n",
    "plt.axvline(19312,color='black',label = 'Reaper Relase',linewidth='3')\n",
    "# set limits\n",
    "plt.xlim((datetime(2022, 10, 18),datetime(2023, 1, 14)))\n",
    "# show legend\n",
    "plt.title('24 Hour Rolling Percent Change')\n",
    "plt.legend()\n",
    "plt.ylabel('%')\n",
    "# show graph\n",
    "plt.show()"
   ]
  },
  {
   "cell_type": "code",
   "execution_count": null,
   "id": "bde962e6-815b-4231-b5e1-c114ffab814c",
   "metadata": {},
   "outputs": [],
   "source": [
    "window = 12\n",
    "\n",
    "sb_s_df['close_avg'] = sb_s_df.close.rolling(window=window).mean()\n",
    "sb_s_df = sb_s_df[window-1:]\n",
    "\n",
    "sb_l_df['close_avg'] = sb_l_df.close.rolling(window=window).mean()\n",
    "sb_l_df = sb_l_df[window-1:]\n",
    "\n",
    "sb_l_df['close_avg'] = sb_l_df['close_avg']/3\n",
    "\n",
    "ls_df['close_avg'] = ls_df.close.rolling(window=window).mean()\n",
    "ls_df = ls_df[window-1:]\n",
    "\n",
    "dest_df['close_avg'] = dest_df.close.rolling(window=window).mean()\n",
    "dest_df = dest_df[window-1:]"
   ]
  },
  {
   "cell_type": "code",
   "execution_count": null,
   "id": "597e21f7-b89c-4d8f-982c-593d5566aa0c",
   "metadata": {},
   "outputs": [],
   "source": [
    "# Data\n",
    "from matplotlib.pyplot import figure\n",
    "figure(figsize=(12, 6), dpi=200)\n",
    "\n",
    "# multiple line plots\n",
    "plt.plot('timestamp', 'close_avg', data=dest_df, color='red', linewidth=2, label=\"Destruction Stone\")\n",
    "plt.plot('timestamp', 'close_avg', data=ls_df, color='dodgerblue', linewidth=2, label=\"Leapstone\")\n",
    "plt.plot('timestamp', 'close_avg', data=sb_l_df, color='orange', linewidth=2, label=\"Large Shard Bag ADJUSTED TO PRICE PER 500 SHARDS\")\n",
    "plt.plot('timestamp', 'close_avg', data=sb_s_df, color='purple', linewidth=2, label=\"Small Shard Bag\")\n",
    "\n",
    "plt.axvline(datetime(2022, 11, 16),color='indigo',linestyle = ':' ,label = 'Reaper Relase + Power Pass + Express 1445',linewidth='3')\n",
    "plt.axvline(datetime(2022, 12, 14),color='black',linestyle = ':' ,label = 'Brelshaza Release',linewidth='3')\n",
    "\n",
    "# add ending values\n",
    "for var in (dest_df.close_avg.iloc[-1],ls_df.close_avg.iloc[-1],sb_l_df.close_avg.iloc[-1],sb_s_df.close_avg.iloc[-1]):\n",
    "    plt.annotate('%0.2f' % var.max(), xy=(1, var.max()), xytext=(8, 0), \n",
    "                 xycoords=('axes fraction', 'data'), textcoords='offset points')\n",
    "\n",
    "# set limits\n",
    "plt.xlim((datetime(2022, 10, 18),datetime(2023, 1, 14)))\n",
    "# show legend\n",
    "plt.title(f'{window} Hour Rolling Mean Price')\n",
    "plt.legend()\n",
    "plt.ylabel('Gold')\n",
    "# show graph\n",
    "plt.show()"
   ]
  },
  {
   "cell_type": "code",
   "execution_count": null,
   "id": "2c594096-8224-47cc-9272-aa5448df2f4e",
   "metadata": {},
   "outputs": [],
   "source": [
    "min_date = \"2022-8-28 00:00:00\"\n",
    "max_date = \"2022-10-28 00:00:00\"\n",
    "dest_df = df[df['id'] == '\"crystallized-destruction-stone-0\"']\n",
    "dest_df = dest_df[(dest_df['timestamp'] > min_date) & (dest_df['timestamp'] < max_date) ]\n",
    "\n",
    "ls_df = df[df['id'] == '\"great-honor-leapstone-2\"']\n",
    "ls_df = ls_df[(ls_df['timestamp'] > min_date) & (ls_df['timestamp'] < max_date) ]\n",
    "\n",
    "sb_s_df = df[df['id'] == '\"honor-shard-pouch-s-1\"'][['id','timestamp','close']]\n",
    "sb_s_df = sb_s_df[(sb_s_df['timestamp'] > min_date) & (sb_s_df['timestamp'] < max_date) ]\n",
    "\n",
    "sb_l_df = df[df['id'] == '\"honor-shard-pouch-l-3\"'][['id','timestamp','close']]\n",
    "sb_l_df = sb_l_df[(sb_l_df['timestamp'] > min_date) & (sb_l_df['timestamp'] < max_date) ]\n",
    "\n",
    "# remove outliers\n",
    "# from scipy import stats\n",
    "ls_df = ls_df[ls_df.close < 1000]\n",
    "ls_df = ls_df[(np.abs(stats.zscore(ls_df.close)) < 3)]\n",
    "ls_df = ls_df[stats.zscore(ls_df.close) > -2]\n",
    "\n",
    "dest_df = dest_df[(np.abs(stats.zscore(dest_df.close)) < 2.3)]\n",
    "\n",
    "sb_l_df = sb_l_df[sb_l_df.close < 1000]\n",
    "\n",
    "window = 12\n",
    "\n",
    "sb_s_df['close_avg'] = sb_s_df.close.rolling(window=window).mean()\n",
    "sb_s_df = sb_s_df[window-1:]\n",
    "\n",
    "sb_l_df['close_avg'] = sb_l_df.close.rolling(window=window).mean()\n",
    "sb_l_df = sb_l_df[window-1:]\n",
    "\n",
    "sb_l_df['close_avg'] = sb_l_df['close_avg']/3\n",
    "\n",
    "ls_df['close_avg'] = ls_df.close.rolling(window=window).mean()\n",
    "ls_df = ls_df[window-1:]\n",
    "\n",
    "dest_df['close_avg'] = dest_df.close.rolling(window=window).mean()\n",
    "dest_df = dest_df[window-1:]"
   ]
  },
  {
   "cell_type": "code",
   "execution_count": null,
   "id": "ec5843b0-85d3-45a5-9e4d-2a0e11aed5a7",
   "metadata": {},
   "outputs": [],
   "source": [
    "# Data\n",
    "from matplotlib.pyplot import figure\n",
    "figure(figsize=(12, 6), dpi=200)\n",
    "\n",
    "# multiple line plots\n",
    "plt.plot('timestamp', 'close_avg', data=dest_df, color='red', linewidth=2, label=\"Destruction Stone\")\n",
    "plt.plot('timestamp', 'close_avg', data=ls_df, color='dodgerblue', linewidth=2, label=\"Leapstone\")\n",
    "plt.plot('timestamp', 'close_avg', data=sb_l_df, color='orange', linewidth=2, label=\"Large Shard Bag, price per 500\")\n",
    "plt.plot('timestamp', 'close_avg', data=sb_s_df, color='purple', linewidth=2, label=\"Small Shard Bag\")\n",
    "\n",
    "plt.axvline(datetime(2022, 9, 28),color='black',linestyle = ':' ,label = 'Clown Relase',linewidth='3')\n",
    "\n",
    "# add ending values\n",
    "for var in (dest_df.close_avg.iloc[-1],ls_df.close_avg.iloc[-1],sb_l_df.close_avg.iloc[-1],sb_s_df.close_avg.iloc[-1]):\n",
    "    plt.annotate('%0.2f' % var.max(), xy=(1, var.max()), xytext=(8, 0), \n",
    "                 xycoords=('axes fraction', 'data'), textcoords='offset points')\n",
    "\n",
    "# set limits\n",
    "plt.xlim((datetime(2022, 8, 29),datetime(2022, 10, 28)))\n",
    "# show legend\n",
    "plt.title(f'{window} Hour Rolling Mean Price')\n",
    "plt.legend(loc='upper left')\n",
    "plt.ylabel('Gold')\n",
    "# show graph\n",
    "plt.show()"
   ]
  },
  {
   "cell_type": "code",
   "execution_count": null,
   "id": "bb6b64fc-a6ef-4c46-a5f0-8c8c7b1d9b5e",
   "metadata": {},
   "outputs": [],
   "source": [
    "one_item_raid_release = df[df['id'] == '\"elemental-hp-potion-3\"']"
   ]
  },
  {
   "cell_type": "code",
   "execution_count": null,
   "id": "400f3d44-23ec-4d82-bd21-e8a4fbdd5eb7",
   "metadata": {},
   "outputs": [],
   "source": [
    "one_item_raid_release = df[df['id'] == '\"elemental-hp-potion-3\"']\n",
    "one_item_raid_release = one_item_raid_release[stats.zscore(one_item_raid_release.close) > -2.2]\n",
    "# not needed\n",
    "# one_item_raid_release = one_item_raid_release[(np.abs(stats.zscore(one_item_raid_release.close)) < 2.3)]\n",
    "\n",
    "window = 2\n",
    "\n",
    "one_item_raid_release['close_avg'] = one_item_raid_release.close.rolling(window=window).mean()\n",
    "one_item_raid_release = one_item_raid_release[window-1:]\n",
    "\n",
    "long_window = 7*24\n",
    "one_item_raid_release['close_long_avg'] = one_item_raid_release.close.rolling(window=long_window).mean()\n",
    "one_item_raid_release = one_item_raid_release[window-1:]\n"
   ]
  },
  {
   "cell_type": "code",
   "execution_count": null,
   "id": "1d725793-b165-4357-b527-8ca8a9c8807d",
   "metadata": {},
   "outputs": [],
   "source": [
    "# Data\n",
    "from matplotlib.pyplot import figure\n",
    "figure(figsize=(12, 6), dpi=200)\n",
    "\n",
    "# multiple line plots\n",
    "plt.plot('timestamp', 'close_avg', data=one_item_raid_release, color='mediumpurple', linewidth=2, label=\"Elemental HP Potion\")\n",
    "plt.plot('timestamp', 'close_long_avg', data=one_item_raid_release, color='seagreen', linewidth=2, label=\"7 Day SMA\")\n",
    "\n",
    "plt.axvline(datetime(2022, 6, 30),color='purple',linestyle = ':' ,label = 'Vykas Release',linewidth='3')\n",
    "plt.axvline(datetime(2022, 9, 28),color='red',linestyle = ':' ,label = 'Clown Relase',linewidth='3')\n",
    "plt.axvline(datetime(2022, 12, 14),color='black',linestyle = ':' ,label = 'Brelshaza Release',linewidth='3')\n",
    "\n",
    "# add ending values\n",
    "for var in ([one_item_raid_release.close_avg.iloc[-1],one_item_raid_release.close_long_avg.iloc[-1]]):\n",
    "    plt.annotate('%0.2f' % var.max(), xy=(1, var.max()), xytext=(8, 0), \n",
    "                 xycoords=('axes fraction', 'data'), textcoords='offset points')\n",
    "\n",
    "# set limits\n",
    "plt.xlim((datetime(2022, 6, 1),datetime(2023, 3, 10)))\n",
    "# show legend\n",
    "plt.title(f'HP Potion Price and Raid Releases')\n",
    "plt.legend(loc='upper left')\n",
    "plt.ylabel('Gold')\n",
    "# show graph\n",
    "plt.show()"
   ]
  },
  {
   "cell_type": "code",
   "execution_count": null,
   "id": "fca6315e-f8f1-4c80-9e49-07c331abef75",
   "metadata": {},
   "outputs": [],
   "source": [
    "solar_df = df[df['id'] == '\"oreha-solar-carp-2\"'][['id','timestamp','close']]\n",
    "fish_df = df[df['id'] == '\"fish-0\"'][['id','timestamp','close']]\n",
    "pearl_df = df[df['id'] == '\"natural-pearl-1\"'][['id','timestamp','close']]\n",
    "b_fusion_df = df[df['id'] == '\"basic-oreha-fusion-material-2\"'][['id','timestamp','close']]\n",
    "s_fusion_df = df[df['id'] == '\"superior-oreha-fusion-material-4\"'][['id','timestamp','close']]\n",
    "\n",
    "# adjust for single item cost\n",
    "solar_df.close = solar_df.close/10\n",
    "fish_df.close = fish_df.close/100\n",
    "pearl_df.close = pearl_df.close/10\n",
    "\n",
    "# setdatetime index\n",
    "solar_df.set_index('timestamp', inplace=True, drop=True)\n",
    "fish_df.set_index('timestamp', inplace=True, drop=True)\n",
    "pearl_df.set_index('timestamp', inplace=True, drop=True)\n",
    "b_fusion_df.set_index('timestamp', inplace=True, drop=True)\n",
    "s_fusion_df.set_index('timestamp', inplace=True, drop=True)"
   ]
  },
  {
   "cell_type": "code",
   "execution_count": null,
   "id": "e76297c8-9621-467c-a24e-6c0d3554a933",
   "metadata": {},
   "outputs": [],
   "source": [
    "# basic crafting cost \n",
    "b_fusion_df['crafting_cost'] = solar_df.close * 10 + fish_df.close * 80 + pearl_df.close * 40 + 188 #205 is default, 188 is mine\n",
    "b_fusion_df['crafting_cost'] = b_fusion_df['crafting_cost']/30 # for stack size\n",
    "\n",
    "s_fusion_df['crafting_cost'] = solar_df.close * 16 + fish_df.close * 128 + pearl_df.close * 64 + 230 #250 is default, 230 is mine\n",
    "s_fusion_df['crafting_cost'] = s_fusion_df['crafting_cost']/20 # for stack size \n",
    "\n",
    "# Adjust for tax rate of rounding up to the gold per item\n",
    "b_fusion_df['tax_adjusted'] = b_fusion_df.close\n",
    "b_fusion_df.loc[b_fusion_df.close <= 20, 'tax_adjusted'] = b_fusion_df.loc[b_fusion_df.close <= 20, 'tax_adjusted']-1\n",
    "b_fusion_df.loc[b_fusion_df.close >= 21, 'tax_adjusted'] = b_fusion_df.loc[b_fusion_df.close >= 21, 'tax_adjusted']-2\n",
    "b_fusion_df.loc[b_fusion_df.close >= 40, 'tax_adjusted'] = b_fusion_df.loc[b_fusion_df.close >= 40, 'tax_adjusted']-3\n",
    "\n",
    "s_fusion_df['tax_adjusted'] = s_fusion_df.close\n",
    "s_fusion_df.loc[s_fusion_df.close <= 20, 'tax_adjusted'] = s_fusion_df.loc[s_fusion_df.close <= 20, 'tax_adjusted']-1\n",
    "s_fusion_df.loc[s_fusion_df.close >= 21, 'tax_adjusted'] = s_fusion_df.loc[s_fusion_df.close >= 21, 'tax_adjusted']-2\n",
    "s_fusion_df.loc[s_fusion_df.close >= 40, 'tax_adjusted'] = s_fusion_df.loc[s_fusion_df.close >= 40, 'tax_adjusted']-3\n",
    "\n",
    "#crafting vs sale price adjust 1.0 is default 1.06 is me\n",
    "s_fusion_df['stack_crafting_margin'] = 20 * ((s_fusion_df.tax_adjusted * 1.06) - s_fusion_df.crafting_cost)\n",
    "b_fusion_df['stack_crafting_margin'] = 30 * ((b_fusion_df.tax_adjusted * 1.06) - b_fusion_df.crafting_cost)\n"
   ]
  },
  {
   "cell_type": "code",
   "execution_count": null,
   "id": "e3953287-d7a8-4edf-bb38-2d1ae3f9bd4e",
   "metadata": {},
   "outputs": [],
   "source": [
    "method_df.two.iloc[0]\n",
    "#15.411200000000008\n",
    "#15.41120000000003"
   ]
  },
  {
   "cell_type": "code",
   "execution_count": null,
   "id": "23cfaaed-1299-465e-9e45-e1973b6948e4",
   "metadata": {},
   "outputs": [],
   "source": [
    "20((price  * 1.06 ) - cost)\n",
    "\n",
    "\n",
    "\n",
    "1.00\n",
    "0.94 * 30 = res1 \n",
    "0.06 * 60 = res2\n",
    "= 31.8\n"
   ]
  },
  {
   "cell_type": "code",
   "execution_count": null,
   "id": "17c3cc71-e586-4eca-9e07-4aea3e323d9e",
   "metadata": {},
   "outputs": [],
   "source": [
    "method_df.head(1)"
   ]
  },
  {
   "cell_type": "code",
   "execution_count": null,
   "id": "fb534ff3-9e91-481c-a577-fcaee7affa4d",
   "metadata": {},
   "outputs": [],
   "source": []
  },
  {
   "cell_type": "code",
   "execution_count": null,
   "id": "b3b82b5a-5d89-4775-bf4c-45551ede4751",
   "metadata": {},
   "outputs": [],
   "source": [
    "# PROOF THAT THIS METHOD WORKS FOR CALCULATING CHANCE OF CRAFT\n",
    "\n",
    "method_one = 20 * ((s_fusion_df.tax_adjusted * 1.06) - s_fusion_df.crafting_cost)\n",
    "price * 1.06 = result \n",
    "result - cost = result\n",
    "result * 20 \n",
    "\n",
    "method_two = (21.2 * s_fusion_df.tax_adjusted) - (20 * s_fusion_df.crafting_cost)\n",
    "21.2 * price = price \n",
    "20 * cost = cost\n",
    "price - cost \n",
    "\n",
    "method_df = pd.DataFrame([method_two,method_one]).T\n",
    "method_df.columns = ['one','two']\n",
    "method_df = method_df.round(3)\n",
    "method_df[method_df.one != method_df.two]"
   ]
  },
  {
   "cell_type": "code",
   "execution_count": null,
   "id": "abb870ff-e762-414b-884b-364665d053ee",
   "metadata": {},
   "outputs": [],
   "source": []
  },
  {
   "cell_type": "code",
   "execution_count": null,
   "id": "4aa82683-51e7-4b9b-9bf1-1babc8ffb08e",
   "metadata": {
    "tags": []
   },
   "outputs": [],
   "source": [
    "How many items do I get per craft if I get 6% chance to double the yield?\n",
    "great success = double yield \n",
    "0.06 * 60 = 3.6\n",
    "0.94 * 30 = 28.2\n",
    "\n",
    "100 \n",
    "0.94  single \n",
    "0.06  double \n",
    "\n",
    "Yield w/ great success chance = 31.8\n",
    "\n",
    "Is this correct? \n",
    "(31.8 * price) - (30 * cost) == 30 (( price * (1 + 0.06)) - cost)"
   ]
  },
  {
   "cell_type": "code",
   "execution_count": null,
   "id": "1d57a8c6-d620-45f7-bf4b-cfd4633aaed6",
   "metadata": {
    "tags": []
   },
   "outputs": [],
   "source": [
    "# Data\n",
    "from matplotlib.pyplot import figure\n",
    "from datetime import timedelta\n",
    "figure(figsize=(12, 6), dpi=200)\n",
    "\n",
    "# multiple line plots\n",
    "plt.plot(s_fusion_df.index, 'crafting_cost', data=s_fusion_df, color='orange', linewidth=2, label=\"Superior Crafting Cost\")\n",
    "plt.plot(s_fusion_df.index, 'tax_adjusted', data=s_fusion_df, color='dodgerblue', linewidth=2, label=\"Superior Price Post Tax\")\n",
    "\n",
    "plt.plot(b_fusion_df.index, 'crafting_cost', data=b_fusion_df, color='orange', linewidth=2, label=\"Basic Crafting Cost\")\n",
    "plt.plot(b_fusion_df.index, 'tax_adjusted', data=b_fusion_df, color='dodgerblue', linewidth=2, label=\"Basic Price Post Tax\")\n",
    "\n",
    "plt.axvline(datetime(2022, 9, 28),color='black',linestyle = ':' ,label = 'Clown Relase',linewidth='3')\n",
    "# add ending values\n",
    "for var in (b_fusion_df.tax_adjusted.iloc[-1],s_fusion_df.tax_adjusted.iloc[-1],b_fusion_df.crafting_cost.iloc[-1],s_fusion_df.crafting_cost.iloc[-1]):\n",
    "    plt.annotate('%0.2f' % var.max(), xy=(1, var.max()), xytext=(8, 0), \n",
    "                 xycoords=('axes fraction', 'data'), textcoords='offset points')\n",
    "\n",
    "# set limits\n",
    "now = datetime.now()\n",
    "min_delta = timedelta(days = 180)\n",
    "max_delta = timedelta(days = 1)\n",
    "x_min = now - min_delta\n",
    "x_max = now - max_delta\n",
    "\n",
    "\n",
    "plt.xlim((x_min,x_max))\n",
    "# show legend\n",
    "plt.title(f'{window} Hour Rolling Mean Price')\n",
    "plt.legend(loc='upper left')\n",
    "plt.ylabel('Gold')\n",
    "# show graph\n",
    "plt.show()"
   ]
  },
  {
   "cell_type": "code",
   "execution_count": null,
   "id": "cd3ed6cc-0ac5-40ea-b091-6c2c1dd30286",
   "metadata": {},
   "outputs": [],
   "source": [
    "# smooth out data\n",
    "window = 48\n",
    "\n",
    "s_fusion_df['stack_crafting_margin'] = s_fusion_df.stack_crafting_margin.rolling(window=window).mean()\n",
    "s_fusion_df = s_fusion_df[window-1:]\n",
    "\n",
    "b_fusion_df['stack_crafting_margin'] = b_fusion_df.stack_crafting_margin.rolling(window=window).mean()\n",
    "b_fusion_df = b_fusion_df[window-1:]"
   ]
  },
  {
   "cell_type": "code",
   "execution_count": null,
   "id": "cd5bd412-18ea-49d6-85f6-9e9baa449d00",
   "metadata": {},
   "outputs": [],
   "source": [
    "# Data\n",
    "from matplotlib.pyplot import figure\n",
    "from datetime import timedelta\n",
    "figure(figsize=(12, 6), dpi=200)\n",
    "\n",
    "# multiple line plots\n",
    "plt.plot(s_fusion_df.index, 'stack_crafting_margin', data=s_fusion_df, color='darkviolet', linewidth=2, label=\"Superior Stack Crafting Margin\")\n",
    "\n",
    "plt.plot(b_fusion_df.index, 'stack_crafting_margin', data=b_fusion_df, color='cornflowerblue', linewidth=2, label=\"Basic Stack Crafting Margin\")\n",
    "\n",
    "plt.axhline(0, color='red')\n",
    "# add ending values\n",
    "for var in (b_fusion_df.stack_crafting_margin.iloc[-1],s_fusion_df.stack_crafting_margin.iloc[-1]):\n",
    "    plt.annotate('%0.2f' % var.max(), xy=(1, var.max()), xytext=(8, 0), \n",
    "                 xycoords=('axes fraction', 'data'), textcoords='offset points')\n",
    "\n",
    "# set x limits\n",
    "history = 180\n",
    "now = datetime.now()\n",
    "min_delta = timedelta(days = 180)\n",
    "max_delta = timedelta(days = 1)\n",
    "x_min = now - min_delta\n",
    "x_max = now - max_delta\n",
    "\n",
    "plt.xlim((x_min,x_max))\n",
    "\n",
    "# set y limits \n",
    "# show legend\n",
    "plt.title(f'{history} Day Historical, {window} Hour SMA Stack Crafting Margin')\n",
    "plt.legend(loc='upper left')\n",
    "plt.ylabel('Gold')\n",
    "# show graph\n",
    "plt.show()"
   ]
  },
  {
   "cell_type": "code",
   "execution_count": null,
   "id": "a8b6dc61-28e9-4faa-aa9e-222fa2e99abd",
   "metadata": {},
   "outputs": [],
   "source": [
    "20"
   ]
  },
  {
   "cell_type": "code",
   "execution_count": null,
   "id": "21933745-8be5-4a43-a687-0bb8e23b717d",
   "metadata": {},
   "outputs": [],
   "source": [
    "def add_three_numbers(num0,num1,num2):\n",
    "    return num0 + num1 + num2\n",
    "add_three_numbers(2,3,5)"
   ]
  },
  {
   "cell_type": "code",
   "execution_count": null,
   "id": "3a02ad66-295c-40bf-b8ad-1664739aeddf",
   "metadata": {},
   "outputs": [],
   "source": [
    "2+3+5"
   ]
  },
  {
   "cell_type": "code",
   "execution_count": null,
   "id": "b94365f2-33bf-42b8-bfbc-130411278ada",
   "metadata": {},
   "outputs": [],
   "source": []
  },
  {
   "cell_type": "code",
   "execution_count": null,
   "id": "fff900a1-3195-4304-8c76-0d4c1ab7110a",
   "metadata": {},
   "outputs": [],
   "source": []
  }
 ],
 "metadata": {
  "kernelspec": {
   "display_name": "Python 3 (ipykernel)",
   "language": "python",
   "name": "python3"
  },
  "language_info": {
   "codemirror_mode": {
    "name": "ipython",
    "version": 3
   },
   "file_extension": ".py",
   "mimetype": "text/x-python",
   "name": "python",
   "nbconvert_exporter": "python",
   "pygments_lexer": "ipython3",
   "version": "3.9.12"
  }
 },
 "nbformat": 4,
 "nbformat_minor": 5
}
